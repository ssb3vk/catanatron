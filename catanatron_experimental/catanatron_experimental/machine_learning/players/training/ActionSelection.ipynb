{
 "cells": [
  {
   "cell_type": "markdown",
   "id": "e7z7EHn4PzMs",
   "metadata": {
    "id": "e7z7EHn4PzMs"
   },
   "source": [
    "# MODEL ARCHITECTURE"
   ]
  },
  {
   "cell_type": "code",
   "execution_count": 35,
   "id": "78495af0-1bc5-4107-bf58-34fdf3fe3dfb",
   "metadata": {
    "tags": []
   },
   "outputs": [
    {
     "name": "stdout",
     "output_type": "stream",
     "text": [
      "/sfs/weka/scratch/ssb3vk/RL\n"
     ]
    }
   ],
   "source": [
    "import os\n",
    "print(os.getcwd())"
   ]
  },
  {
   "cell_type": "code",
   "execution_count": 36,
   "id": "IqMwF_4Y3Wbm",
   "metadata": {
    "id": "IqMwF_4Y3Wbm",
    "tags": []
   },
   "outputs": [],
   "source": [
    "import torch\n",
    "from torch import nn\n",
    "import numpy as np\n",
    "\n",
    "class DuelingQNetworkConv(nn.Module):\n",
    "    def __init__(self, action_size=12):\n",
    "        super(DuelingQNetworkConv, self).__init__()\n",
    "\n",
    "        # Convolutional layers\n",
    "        self.conv_layers = nn.Sequential(\n",
    "            nn.Conv3d(in_channels=1, out_channels=32, kernel_size=(5, 5, 5), stride=1, padding=2),\n",
    "            nn.ReLU(),\n",
    "            nn.MaxPool3d(kernel_size=(2, 2, 2), stride=2),\n",
    "        )\n",
    "\n",
    "        # Calculate the size of the flattened feature vector after the conv layers\n",
    "        # Here we assume an input of shape (1, 21, 11, 16) because Conv3d expects a batch dimension and a channel dimension\n",
    "        with torch.no_grad():\n",
    "            self.flattened_size = self._get_conv_output((1, 1, 21, 11, 16))\n",
    "\n",
    "        # Fully connected layers\n",
    "        self.fc_input = nn.Linear(self.flattened_size, 512)\n",
    "        self.relu = nn.ReLU()\n",
    "        self.fc1 = nn.Linear(512, 512)\n",
    "\n",
    "        # Dueling branches\n",
    "        self.state_value = nn.Sequential(\n",
    "            nn.Linear(512, 256),\n",
    "            nn.ReLU(),\n",
    "            nn.Linear(256, 1)  # Outputs V(s)\n",
    "        )\n",
    "        self.action_value = nn.Sequential(\n",
    "            nn.Linear(512, 256),\n",
    "            nn.ReLU(),\n",
    "            nn.Linear(256, action_size)  # Outputs A(s, a) for each action\n",
    "        )\n",
    "\n",
    "    def forward(self, obs: torch.Tensor):\n",
    "        # Convolutional layers\n",
    "        conv_out = self.conv_layers(obs)\n",
    "        conv_out = conv_out.view(-1, self.flattened_size)  # Flatten the output for the fully connected layers\n",
    "\n",
    "        # Fully connected layers\n",
    "        h = self.relu(self.fc_input(conv_out))\n",
    "        h = self.relu(self.fc1(h))\n",
    "\n",
    "        # Compute state value and action advantage values\n",
    "        state_value = self.state_value(h)\n",
    "        action_value = self.action_value(h)\n",
    "        action_score_centered = action_value - action_value.mean(dim=1, keepdim=True)\n",
    "\n",
    "        # Combine state value and centered action values to get Q values\n",
    "        q = state_value + action_score_centered\n",
    "\n",
    "        return q\n",
    "\n",
    "    def _get_conv_output(self, shape):\n",
    "        input = torch.rand(shape)\n",
    "        output = self.conv_layers(input)\n",
    "        return int(np.prod(output.size()))\n"
   ]
  },
  {
   "cell_type": "markdown",
   "id": "lhtD2r-3sItt",
   "metadata": {
    "id": "lhtD2r-3sItt"
   },
   "source": [
    "# Reading in Data and Training Models"
   ]
  },
  {
   "cell_type": "code",
   "execution_count": 37,
   "id": "NXBVEV0wuV5f",
   "metadata": {
    "id": "NXBVEV0wuV5f",
    "tags": []
   },
   "outputs": [],
   "source": [
    "import pandas as pd\n",
    "import torch\n",
    "from torch.utils.data import DataLoader, TensorDataset\n",
    "from tqdm import tqdm  # for progress bars\n",
    "\n",
    "def map_labels(labels):\n",
    "    # Map label 17 to 12 (omitted range 12-16 because there is no trading in our simplfied version)\n",
    "    labels = labels.apply(lambda x: 12 if x == 17 else x)\n",
    "    return labels - 1 # Zero index them\n",
    "\n",
    "def train_on_chunk(data_chunk, action_chunk):\n",
    "   # Get the ACTION_TYPE column, as that is the one we are trying to predict\n",
    "    labels = action_chunk.iloc[:, 1]\n",
    "    non_zero_indices = labels != 0\n",
    "\n",
    "    # Apply the same filter to both the data_chunk and labels to ensure they align\n",
    "    filtered_data_chunk = data_chunk[non_zero_indices]\n",
    "    filtered_labels = labels[non_zero_indices]\n",
    "    filtered_labels = map_labels(filtered_labels) # Change 17s to 12s\n",
    "\n",
    "    # Reshape so that convolutions can be applied\n",
    "    reshaped_tensors = []\n",
    "    for index, row in filtered_data_chunk.iterrows():\n",
    "        tensor = torch.tensor(row.values, dtype=torch.float32).reshape((21, 11, 16))\n",
    "        reshaped_tensors.append(tensor)\n",
    "\n",
    "    X = torch.stack(reshaped_tensors).unsqueeze(1).to(device)  # Move to the specified device\n",
    "    y = torch.tensor(filtered_labels.values, dtype=torch.long).to(device)  # Move to the specified device\n",
    "\n",
    "    if X.shape[0] == 0:\n",
    "        print(\"No samples left after filtering.\")\n",
    "        return\n",
    "\n",
    "    dataset = TensorDataset(X, y)\n",
    "    data_loader = DataLoader(dataset, batch_size=128, shuffle=True)\n",
    "\n",
    "    model.train()\n",
    "    running_loss = 0.0\n",
    "    correct_predictions = 0\n",
    "    total_predictions = 0\n",
    "\n",
    "    for inputs, labels in data_loader:\n",
    "        optimizer.zero_grad()\n",
    "        outputs = model(inputs)\n",
    "        loss = loss_fn(outputs, labels)\n",
    "        loss.backward()\n",
    "        optimizer.step()\n",
    "\n",
    "        running_loss += loss.item()\n",
    "        _, predicted = torch.max(outputs.data, 1)\n",
    "        total_predictions += labels.size(0)\n",
    "        correct_predictions += (predicted == labels).sum().item()\n",
    "\n",
    "    avg_loss = running_loss / len(data_loader)\n",
    "    accuracy = correct_predictions / total_predictions\n",
    "\n",
    "    return avg_loss, accuracy"
   ]
  },
  {
   "cell_type": "code",
   "execution_count": 38,
   "id": "u84ufUEhzVAX",
   "metadata": {
    "id": "u84ufUEhzVAX",
    "tags": []
   },
   "outputs": [],
   "source": [
    "def train_model_from_files(board_tensors_path, actions_path):\n",
    "    \"\"\"\n",
    "    Train the model using the specified board_tensors and actions files.\n",
    "    \"\"\"\n",
    "    num_epochs = 100\n",
    "    \n",
    "    epoch_avg_loss = []\n",
    "    epoch_avg_acc = []\n",
    "\n",
    "    for epoch in range(num_epochs):\n",
    "        print(f\"Epoch {epoch+1}/{num_epochs}\")\n",
    "\n",
    "        epoch_losses = []\n",
    "        epoch_accuracies = []\n",
    "\n",
    "        data_tensor = pd.read_csv(board_tensors_path, compression='gzip', chunksize=10000)\n",
    "        action_tensor = pd.read_csv(actions_path, compression='gzip', chunksize=10000)\n",
    "\n",
    "        for data_chunk, action_chunk in tqdm(zip(data_tensor, action_tensor), desc=\"Processing chunks\", total=10000 // data_tensor.chunksize):\n",
    "            avg_loss, accuracy = train_on_chunk(data_chunk, action_chunk)\n",
    "            if avg_loss is not None:  # Ensure chunk had data to process\n",
    "                epoch_losses.append(avg_loss)\n",
    "                epoch_accuracies.append(accuracy)\n",
    "\n",
    "        if epoch_losses:  # Ensure there were processed chunks\n",
    "            print(f\"Average Loss: {np.mean(epoch_losses):.4f}\")\n",
    "            print(f\"Average Accuracy: {np.mean(epoch_accuracies):.4f}\")\n",
    "            \n",
    "        epoch_avg_loss.append(np.mean(epoch_losses))\n",
    "        epoch_avg_acc.append(np.mean(epoch_accuracies))\n",
    "            \n",
    "        if len(epoch_avg_acc) >= 5: \n",
    "            if not epoch_avg_acc[-1] > epoch_avg_acc[-5] + 0.001:\n",
    "                print(f\"Ending batch's epoch's early, epoch_avg_acc[-1] = {epoch_avg_acc[-1]:.4f} <= epoch_avg_acc[-5] = {epoch_avg_acc[-5]:.4f}\")"
   ]
  },
  {
   "cell_type": "code",
   "execution_count": 39,
   "id": "H4O1U3o6BR2P",
   "metadata": {
    "id": "H4O1U3o6BR2P",
    "tags": []
   },
   "outputs": [],
   "source": [
    "import os\n",
    "def process_directory(base_dir):\n",
    "    \"\"\"\n",
    "    Process each subdirectory within base_dir, assuming each contains\n",
    "    'board_tensors.csv.gzip' and 'actions.csv.gzip' files.\n",
    "    \"\"\"\n",
    "    # List all subdirectories in the base directory\n",
    "    subdirs = [os.path.join(base_dir, d) for d in os.listdir(base_dir) if os.path.isdir(os.path.join(base_dir, d))]\n",
    "\n",
    "    for subdir in subdirs:\n",
    "        board_tensors_path = os.path.join(subdir, 'board_tensors.csv.gzip')\n",
    "        actions_path = os.path.join(subdir, 'actions.csv.gzip')\n",
    "\n",
    "        # Ensure both files exist before proceeding\n",
    "        if os.path.exists(board_tensors_path) and os.path.exists(actions_path):\n",
    "            print(f\"Processing directory: {subdir}\")\n",
    "            train_model_from_files(board_tensors_path, actions_path)\n"
   ]
  },
  {
   "cell_type": "code",
   "execution_count": null,
   "id": "JzDF8cz8BrZb",
   "metadata": {
    "colab": {
     "base_uri": "https://localhost:8080/"
    },
    "id": "JzDF8cz8BrZb",
    "outputId": "0459d520-b627-4a6d-ed4e-5c5f6eea7e1a",
    "tags": []
   },
   "outputs": [
    {
     "name": "stdout",
     "output_type": "stream",
     "text": [
      "Using device: cuda\n",
      "Processing directory: ./data/2024-03-29-03-00-22\n",
      "Epoch 1/100\n"
     ]
    },
    {
     "name": "stderr",
     "output_type": "stream",
     "text": [
      "Processing chunks: 21it [01:12,  3.43s/it]                      \n"
     ]
    },
    {
     "name": "stdout",
     "output_type": "stream",
     "text": [
      "Average Loss: 1.4229\n",
      "Average Accuracy: 0.5382\n",
      "Epoch 2/100\n"
     ]
    },
    {
     "name": "stderr",
     "output_type": "stream",
     "text": [
      "Processing chunks: 21it [01:12,  3.43s/it]                      \n"
     ]
    },
    {
     "name": "stdout",
     "output_type": "stream",
     "text": [
      "Average Loss: 1.3789\n",
      "Average Accuracy: 0.5573\n",
      "Epoch 3/100\n"
     ]
    },
    {
     "name": "stderr",
     "output_type": "stream",
     "text": [
      "Processing chunks: 21it [01:11,  3.43s/it]                      \n"
     ]
    },
    {
     "name": "stdout",
     "output_type": "stream",
     "text": [
      "Average Loss: 1.3487\n",
      "Average Accuracy: 0.5692\n",
      "Epoch 4/100\n"
     ]
    },
    {
     "name": "stderr",
     "output_type": "stream",
     "text": [
      "Processing chunks: 21it [01:11,  3.43s/it]                      \n"
     ]
    },
    {
     "name": "stdout",
     "output_type": "stream",
     "text": [
      "Average Loss: 1.3417\n",
      "Average Accuracy: 0.5695\n",
      "Epoch 5/100\n"
     ]
    },
    {
     "name": "stderr",
     "output_type": "stream",
     "text": [
      "Processing chunks: 21it [01:11,  3.42s/it]                      \n"
     ]
    },
    {
     "name": "stdout",
     "output_type": "stream",
     "text": [
      "Average Loss: 1.3371\n",
      "Average Accuracy: 0.5699\n",
      "Epoch 6/100\n"
     ]
    },
    {
     "name": "stderr",
     "output_type": "stream",
     "text": [
      "Processing chunks: 21it [01:11,  3.41s/it]                      \n"
     ]
    },
    {
     "name": "stdout",
     "output_type": "stream",
     "text": [
      "Average Loss: 1.3301\n",
      "Average Accuracy: 0.5702\n",
      "Epoch 7/100\n"
     ]
    },
    {
     "name": "stderr",
     "output_type": "stream",
     "text": [
      "Processing chunks: 21it [01:11,  3.41s/it]                      \n"
     ]
    },
    {
     "name": "stdout",
     "output_type": "stream",
     "text": [
      "Average Loss: 1.3181\n",
      "Average Accuracy: 0.5702\n",
      "Epoch 8/100\n"
     ]
    },
    {
     "name": "stderr",
     "output_type": "stream",
     "text": [
      "Processing chunks: 21it [01:11,  3.41s/it]                      \n"
     ]
    },
    {
     "name": "stdout",
     "output_type": "stream",
     "text": [
      "Average Loss: 1.3097\n",
      "Average Accuracy: 0.5706\n",
      "Epoch 9/100\n"
     ]
    },
    {
     "name": "stderr",
     "output_type": "stream",
     "text": [
      "Processing chunks: 21it [01:11,  3.41s/it]                      \n"
     ]
    },
    {
     "name": "stdout",
     "output_type": "stream",
     "text": [
      "Average Loss: 1.2980\n",
      "Average Accuracy: 0.5712\n",
      "Epoch 10/100\n"
     ]
    },
    {
     "name": "stderr",
     "output_type": "stream",
     "text": [
      "Processing chunks: 21it [01:11,  3.41s/it]                      \n"
     ]
    },
    {
     "name": "stdout",
     "output_type": "stream",
     "text": [
      "Average Loss: 1.2847\n",
      "Average Accuracy: 0.5710\n",
      "Ending batch's epoch's early, epoch_avg_acc[-1] = 0.5710 <= epoch_avg_acc[-5] = 0.5702\n",
      "Epoch 11/100\n"
     ]
    },
    {
     "name": "stderr",
     "output_type": "stream",
     "text": [
      "Processing chunks: 21it [01:11,  3.40s/it]                      \n"
     ]
    },
    {
     "name": "stdout",
     "output_type": "stream",
     "text": [
      "Average Loss: 1.2746\n",
      "Average Accuracy: 0.5715\n",
      "Epoch 12/100\n"
     ]
    },
    {
     "name": "stderr",
     "output_type": "stream",
     "text": [
      "Processing chunks: 21it [01:11,  3.40s/it]                      \n"
     ]
    },
    {
     "name": "stdout",
     "output_type": "stream",
     "text": [
      "Average Loss: 1.2543\n",
      "Average Accuracy: 0.5722\n",
      "Epoch 13/100\n"
     ]
    },
    {
     "name": "stderr",
     "output_type": "stream",
     "text": [
      "Processing chunks: 21it [01:11,  3.40s/it]                      \n"
     ]
    },
    {
     "name": "stdout",
     "output_type": "stream",
     "text": [
      "Average Loss: 1.2429\n",
      "Average Accuracy: 0.5728\n",
      "Epoch 14/100\n"
     ]
    },
    {
     "name": "stderr",
     "output_type": "stream",
     "text": [
      "Processing chunks: 21it [01:11,  3.40s/it]                      \n"
     ]
    },
    {
     "name": "stdout",
     "output_type": "stream",
     "text": [
      "Average Loss: 1.2237\n",
      "Average Accuracy: 0.5732\n",
      "Epoch 15/100\n"
     ]
    },
    {
     "name": "stderr",
     "output_type": "stream",
     "text": [
      "Processing chunks: 21it [01:11,  3.41s/it]                      \n"
     ]
    },
    {
     "name": "stdout",
     "output_type": "stream",
     "text": [
      "Average Loss: 1.2088\n",
      "Average Accuracy: 0.5734\n",
      "Epoch 16/100\n"
     ]
    },
    {
     "name": "stderr",
     "output_type": "stream",
     "text": [
      "Processing chunks: 21it [01:11,  3.42s/it]                      \n"
     ]
    },
    {
     "name": "stdout",
     "output_type": "stream",
     "text": [
      "Average Loss: 1.1970\n",
      "Average Accuracy: 0.5740\n",
      "Epoch 17/100\n"
     ]
    },
    {
     "name": "stderr",
     "output_type": "stream",
     "text": [
      "Processing chunks: 21it [01:11,  3.42s/it]                      \n"
     ]
    },
    {
     "name": "stdout",
     "output_type": "stream",
     "text": [
      "Average Loss: 1.1796\n",
      "Average Accuracy: 0.5746\n",
      "Epoch 18/100\n"
     ]
    },
    {
     "name": "stderr",
     "output_type": "stream",
     "text": [
      "Processing chunks: 21it [01:11,  3.41s/it]                      \n"
     ]
    },
    {
     "name": "stdout",
     "output_type": "stream",
     "text": [
      "Average Loss: 1.1673\n",
      "Average Accuracy: 0.5746\n",
      "Epoch 19/100\n"
     ]
    },
    {
     "name": "stderr",
     "output_type": "stream",
     "text": [
      "Processing chunks: 21it [01:11,  3.40s/it]                      \n"
     ]
    },
    {
     "name": "stdout",
     "output_type": "stream",
     "text": [
      "Average Loss: 1.1541\n",
      "Average Accuracy: 0.5753\n",
      "Epoch 20/100\n"
     ]
    },
    {
     "name": "stderr",
     "output_type": "stream",
     "text": [
      "Processing chunks: 21it [01:11,  3.42s/it]                      \n"
     ]
    },
    {
     "name": "stdout",
     "output_type": "stream",
     "text": [
      "Average Loss: 1.1429\n",
      "Average Accuracy: 0.5754\n",
      "Epoch 21/100\n"
     ]
    },
    {
     "name": "stderr",
     "output_type": "stream",
     "text": [
      "Processing chunks: 21it [01:11,  3.41s/it]                      \n"
     ]
    },
    {
     "name": "stdout",
     "output_type": "stream",
     "text": [
      "Average Loss: 1.1270\n",
      "Average Accuracy: 0.5760\n",
      "Epoch 22/100\n"
     ]
    },
    {
     "name": "stderr",
     "output_type": "stream",
     "text": [
      "Processing chunks: 21it [01:11,  3.40s/it]                      \n"
     ]
    },
    {
     "name": "stdout",
     "output_type": "stream",
     "text": [
      "Average Loss: 1.1157\n",
      "Average Accuracy: 0.5768\n",
      "Epoch 23/100\n"
     ]
    },
    {
     "name": "stderr",
     "output_type": "stream",
     "text": [
      "Processing chunks: 21it [01:11,  3.41s/it]                      \n"
     ]
    },
    {
     "name": "stdout",
     "output_type": "stream",
     "text": [
      "Average Loss: 1.1052\n",
      "Average Accuracy: 0.5775\n",
      "Epoch 24/100\n"
     ]
    },
    {
     "name": "stderr",
     "output_type": "stream",
     "text": [
      "Processing chunks: 21it [01:11,  3.41s/it]                      \n"
     ]
    },
    {
     "name": "stdout",
     "output_type": "stream",
     "text": [
      "Average Loss: 1.0930\n",
      "Average Accuracy: 0.5777\n",
      "Epoch 25/100\n"
     ]
    },
    {
     "name": "stderr",
     "output_type": "stream",
     "text": [
      "Processing chunks: 21it [01:11,  3.40s/it]                      \n"
     ]
    },
    {
     "name": "stdout",
     "output_type": "stream",
     "text": [
      "Average Loss: 1.0832\n",
      "Average Accuracy: 0.5782\n",
      "Epoch 26/100\n"
     ]
    },
    {
     "name": "stderr",
     "output_type": "stream",
     "text": [
      "Processing chunks: 21it [01:11,  3.41s/it]                      \n"
     ]
    },
    {
     "name": "stdout",
     "output_type": "stream",
     "text": [
      "Average Loss: 1.0735\n",
      "Average Accuracy: 0.5789\n",
      "Epoch 27/100\n"
     ]
    },
    {
     "name": "stderr",
     "output_type": "stream",
     "text": [
      "Processing chunks: 21it [01:11,  3.42s/it]                      \n"
     ]
    },
    {
     "name": "stdout",
     "output_type": "stream",
     "text": [
      "Average Loss: 1.0627\n",
      "Average Accuracy: 0.5792\n",
      "Epoch 28/100\n"
     ]
    },
    {
     "name": "stderr",
     "output_type": "stream",
     "text": [
      "Processing chunks: 21it [01:11,  3.41s/it]                      \n"
     ]
    },
    {
     "name": "stdout",
     "output_type": "stream",
     "text": [
      "Average Loss: 1.0624\n",
      "Average Accuracy: 0.5796\n",
      "Epoch 29/100\n"
     ]
    },
    {
     "name": "stderr",
     "output_type": "stream",
     "text": [
      "Processing chunks: 21it [01:11,  3.40s/it]                      \n"
     ]
    },
    {
     "name": "stdout",
     "output_type": "stream",
     "text": [
      "Average Loss: 1.0501\n",
      "Average Accuracy: 0.5807\n",
      "Epoch 30/100\n"
     ]
    },
    {
     "name": "stderr",
     "output_type": "stream",
     "text": [
      "Processing chunks: 21it [01:11,  3.41s/it]                      \n"
     ]
    },
    {
     "name": "stdout",
     "output_type": "stream",
     "text": [
      "Average Loss: 1.0430\n",
      "Average Accuracy: 0.5806\n",
      "Epoch 31/100\n"
     ]
    },
    {
     "name": "stderr",
     "output_type": "stream",
     "text": [
      "Processing chunks: 21it [01:11,  3.40s/it]                      \n"
     ]
    },
    {
     "name": "stdout",
     "output_type": "stream",
     "text": [
      "Average Loss: 1.0301\n",
      "Average Accuracy: 0.5814\n",
      "Epoch 32/100\n"
     ]
    },
    {
     "name": "stderr",
     "output_type": "stream",
     "text": [
      "Processing chunks: 21it [01:11,  3.41s/it]                      \n"
     ]
    },
    {
     "name": "stdout",
     "output_type": "stream",
     "text": [
      "Average Loss: 1.0245\n",
      "Average Accuracy: 0.5826\n",
      "Epoch 33/100\n"
     ]
    },
    {
     "name": "stderr",
     "output_type": "stream",
     "text": [
      "Processing chunks: 21it [01:11,  3.40s/it]                      \n"
     ]
    },
    {
     "name": "stdout",
     "output_type": "stream",
     "text": [
      "Average Loss: 1.0135\n",
      "Average Accuracy: 0.5832\n",
      "Epoch 34/100\n"
     ]
    },
    {
     "name": "stderr",
     "output_type": "stream",
     "text": [
      "Processing chunks: 21it [01:11,  3.40s/it]                      \n"
     ]
    },
    {
     "name": "stdout",
     "output_type": "stream",
     "text": [
      "Average Loss: 1.0082\n",
      "Average Accuracy: 0.5834\n",
      "Epoch 35/100\n"
     ]
    },
    {
     "name": "stderr",
     "output_type": "stream",
     "text": [
      "Processing chunks: 21it [01:11,  3.40s/it]                      \n"
     ]
    },
    {
     "name": "stdout",
     "output_type": "stream",
     "text": [
      "Average Loss: 1.0061\n",
      "Average Accuracy: 0.5840\n",
      "Epoch 36/100\n"
     ]
    },
    {
     "name": "stderr",
     "output_type": "stream",
     "text": [
      "Processing chunks: 21it [01:11,  3.41s/it]                      \n"
     ]
    },
    {
     "name": "stdout",
     "output_type": "stream",
     "text": [
      "Average Loss: 0.9943\n",
      "Average Accuracy: 0.5848\n",
      "Epoch 37/100\n"
     ]
    },
    {
     "name": "stderr",
     "output_type": "stream",
     "text": [
      "Processing chunks: 21it [01:11,  3.40s/it]                      \n"
     ]
    },
    {
     "name": "stdout",
     "output_type": "stream",
     "text": [
      "Average Loss: 0.9868\n",
      "Average Accuracy: 0.5855\n",
      "Epoch 38/100\n"
     ]
    },
    {
     "name": "stderr",
     "output_type": "stream",
     "text": [
      "Processing chunks: 21it [01:11,  3.41s/it]                      \n"
     ]
    },
    {
     "name": "stdout",
     "output_type": "stream",
     "text": [
      "Average Loss: 0.9830\n",
      "Average Accuracy: 0.5853\n",
      "Epoch 39/100\n"
     ]
    },
    {
     "name": "stderr",
     "output_type": "stream",
     "text": [
      "Processing chunks: 21it [01:11,  3.41s/it]                      \n"
     ]
    },
    {
     "name": "stdout",
     "output_type": "stream",
     "text": [
      "Average Loss: 0.9755\n",
      "Average Accuracy: 0.5858\n",
      "Epoch 40/100\n"
     ]
    },
    {
     "name": "stderr",
     "output_type": "stream",
     "text": [
      "Processing chunks: 21it [01:11,  3.41s/it]                      \n"
     ]
    },
    {
     "name": "stdout",
     "output_type": "stream",
     "text": [
      "Average Loss: 0.9696\n",
      "Average Accuracy: 0.5869\n",
      "Epoch 41/100\n"
     ]
    },
    {
     "name": "stderr",
     "output_type": "stream",
     "text": [
      "Processing chunks: 21it [01:11,  3.41s/it]                      \n"
     ]
    },
    {
     "name": "stdout",
     "output_type": "stream",
     "text": [
      "Average Loss: 0.9653\n",
      "Average Accuracy: 0.5874\n",
      "Epoch 42/100\n"
     ]
    },
    {
     "name": "stderr",
     "output_type": "stream",
     "text": [
      "Processing chunks: 21it [01:11,  3.41s/it]                      \n"
     ]
    },
    {
     "name": "stdout",
     "output_type": "stream",
     "text": [
      "Average Loss: 0.9599\n",
      "Average Accuracy: 0.5884\n",
      "Epoch 43/100\n"
     ]
    },
    {
     "name": "stderr",
     "output_type": "stream",
     "text": [
      "Processing chunks: 21it [01:11,  3.40s/it]                      \n"
     ]
    },
    {
     "name": "stdout",
     "output_type": "stream",
     "text": [
      "Average Loss: 0.9539\n",
      "Average Accuracy: 0.5891\n",
      "Epoch 44/100\n"
     ]
    },
    {
     "name": "stderr",
     "output_type": "stream",
     "text": [
      "Processing chunks: 21it [01:11,  3.41s/it]                      \n"
     ]
    },
    {
     "name": "stdout",
     "output_type": "stream",
     "text": [
      "Average Loss: 0.9482\n",
      "Average Accuracy: 0.5905\n",
      "Epoch 45/100\n"
     ]
    },
    {
     "name": "stderr",
     "output_type": "stream",
     "text": [
      "Processing chunks: 21it [01:11,  3.39s/it]                      \n"
     ]
    },
    {
     "name": "stdout",
     "output_type": "stream",
     "text": [
      "Average Loss: 0.9443\n",
      "Average Accuracy: 0.5893\n",
      "Epoch 46/100\n"
     ]
    },
    {
     "name": "stderr",
     "output_type": "stream",
     "text": [
      "Processing chunks: 21it [01:11,  3.41s/it]                      \n"
     ]
    },
    {
     "name": "stdout",
     "output_type": "stream",
     "text": [
      "Average Loss: 0.9401\n",
      "Average Accuracy: 0.5913\n",
      "Epoch 47/100\n"
     ]
    },
    {
     "name": "stderr",
     "output_type": "stream",
     "text": [
      "Processing chunks: 21it [01:11,  3.40s/it]                      \n"
     ]
    },
    {
     "name": "stdout",
     "output_type": "stream",
     "text": [
      "Average Loss: 0.9380\n",
      "Average Accuracy: 0.5907\n",
      "Epoch 48/100\n"
     ]
    },
    {
     "name": "stderr",
     "output_type": "stream",
     "text": [
      "Processing chunks: 21it [01:11,  3.41s/it]                      \n"
     ]
    },
    {
     "name": "stdout",
     "output_type": "stream",
     "text": [
      "Average Loss: 0.9338\n",
      "Average Accuracy: 0.5912\n",
      "Ending batch's epoch's early, epoch_avg_acc[-1] = 0.5912 <= epoch_avg_acc[-5] = 0.5905\n",
      "Epoch 49/100\n"
     ]
    },
    {
     "name": "stderr",
     "output_type": "stream",
     "text": [
      "Processing chunks: 21it [01:11,  3.41s/it]                      \n"
     ]
    },
    {
     "name": "stdout",
     "output_type": "stream",
     "text": [
      "Average Loss: 0.9256\n",
      "Average Accuracy: 0.5945\n",
      "Epoch 50/100\n"
     ]
    },
    {
     "name": "stderr",
     "output_type": "stream",
     "text": [
      "Processing chunks: 21it [01:11,  3.40s/it]                      \n"
     ]
    },
    {
     "name": "stdout",
     "output_type": "stream",
     "text": [
      "Average Loss: 0.9230\n",
      "Average Accuracy: 0.5928\n",
      "Epoch 51/100\n"
     ]
    },
    {
     "name": "stderr",
     "output_type": "stream",
     "text": [
      "Processing chunks: 21it [01:11,  3.40s/it]                      \n"
     ]
    },
    {
     "name": "stdout",
     "output_type": "stream",
     "text": [
      "Average Loss: 0.9210\n",
      "Average Accuracy: 0.5928\n",
      "Epoch 52/100\n"
     ]
    },
    {
     "name": "stderr",
     "output_type": "stream",
     "text": [
      "Processing chunks: 21it [01:11,  3.41s/it]                      \n"
     ]
    },
    {
     "name": "stdout",
     "output_type": "stream",
     "text": [
      "Average Loss: 0.9171\n",
      "Average Accuracy: 0.5944\n",
      "Epoch 53/100\n"
     ]
    },
    {
     "name": "stderr",
     "output_type": "stream",
     "text": [
      "Processing chunks: 21it [01:11,  3.41s/it]                      \n"
     ]
    },
    {
     "name": "stdout",
     "output_type": "stream",
     "text": [
      "Average Loss: 0.9109\n",
      "Average Accuracy: 0.5952\n",
      "Ending batch's epoch's early, epoch_avg_acc[-1] = 0.5952 <= epoch_avg_acc[-5] = 0.5945\n",
      "Epoch 54/100\n"
     ]
    },
    {
     "name": "stderr",
     "output_type": "stream",
     "text": [
      "Processing chunks: 21it [01:13,  3.50s/it]                      \n"
     ]
    },
    {
     "name": "stdout",
     "output_type": "stream",
     "text": [
      "Average Loss: 0.9062\n",
      "Average Accuracy: 0.5947\n",
      "Epoch 55/100\n"
     ]
    },
    {
     "name": "stderr",
     "output_type": "stream",
     "text": [
      "Processing chunks: 21it [01:13,  3.49s/it]                      \n"
     ]
    },
    {
     "name": "stdout",
     "output_type": "stream",
     "text": [
      "Average Loss: 0.9041\n",
      "Average Accuracy: 0.5958\n",
      "Epoch 56/100\n"
     ]
    },
    {
     "name": "stderr",
     "output_type": "stream",
     "text": [
      "Processing chunks: 21it [01:13,  3.49s/it]                      \n"
     ]
    },
    {
     "name": "stdout",
     "output_type": "stream",
     "text": [
      "Average Loss: 0.9008\n",
      "Average Accuracy: 0.5961\n",
      "Epoch 57/100\n"
     ]
    },
    {
     "name": "stderr",
     "output_type": "stream",
     "text": [
      "Processing chunks: 21it [01:12,  3.47s/it]                      \n"
     ]
    },
    {
     "name": "stdout",
     "output_type": "stream",
     "text": [
      "Average Loss: 0.8968\n",
      "Average Accuracy: 0.5976\n",
      "Epoch 58/100\n"
     ]
    },
    {
     "name": "stderr",
     "output_type": "stream",
     "text": [
      "Processing chunks: 21it [01:13,  3.48s/it]                      \n"
     ]
    },
    {
     "name": "stdout",
     "output_type": "stream",
     "text": [
      "Average Loss: 0.8934\n",
      "Average Accuracy: 0.5976\n",
      "Epoch 59/100\n"
     ]
    },
    {
     "name": "stderr",
     "output_type": "stream",
     "text": [
      "Processing chunks: 21it [01:13,  3.50s/it]                      \n"
     ]
    },
    {
     "name": "stdout",
     "output_type": "stream",
     "text": [
      "Average Loss: 0.8930\n",
      "Average Accuracy: 0.5979\n",
      "Epoch 60/100\n"
     ]
    },
    {
     "name": "stderr",
     "output_type": "stream",
     "text": [
      "Processing chunks: 21it [01:12,  3.47s/it]                      \n"
     ]
    },
    {
     "name": "stdout",
     "output_type": "stream",
     "text": [
      "Average Loss: 0.8866\n",
      "Average Accuracy: 0.6000\n",
      "Epoch 61/100\n"
     ]
    },
    {
     "name": "stderr",
     "output_type": "stream",
     "text": [
      "Processing chunks: 21it [01:13,  3.51s/it]                      \n"
     ]
    },
    {
     "name": "stdout",
     "output_type": "stream",
     "text": [
      "Average Loss: 0.8817\n",
      "Average Accuracy: 0.5995\n",
      "Epoch 62/100\n"
     ]
    },
    {
     "name": "stderr",
     "output_type": "stream",
     "text": [
      "Processing chunks: 21it [01:13,  3.48s/it]                      \n"
     ]
    },
    {
     "name": "stdout",
     "output_type": "stream",
     "text": [
      "Average Loss: 0.8787\n",
      "Average Accuracy: 0.6003\n",
      "Epoch 63/100\n"
     ]
    },
    {
     "name": "stderr",
     "output_type": "stream",
     "text": [
      "Processing chunks: 21it [01:13,  3.49s/it]                      \n"
     ]
    },
    {
     "name": "stdout",
     "output_type": "stream",
     "text": [
      "Average Loss: 0.8762\n",
      "Average Accuracy: 0.6004\n",
      "Epoch 64/100\n"
     ]
    },
    {
     "name": "stderr",
     "output_type": "stream",
     "text": [
      "Processing chunks: 21it [01:13,  3.50s/it]                      \n"
     ]
    },
    {
     "name": "stdout",
     "output_type": "stream",
     "text": [
      "Average Loss: 0.8707\n",
      "Average Accuracy: 0.6027\n",
      "Epoch 65/100\n"
     ]
    },
    {
     "name": "stderr",
     "output_type": "stream",
     "text": [
      "Processing chunks: 21it [01:12,  3.44s/it]                      \n"
     ]
    },
    {
     "name": "stdout",
     "output_type": "stream",
     "text": [
      "Average Loss: 0.8695\n",
      "Average Accuracy: 0.6024\n",
      "Epoch 66/100\n"
     ]
    },
    {
     "name": "stderr",
     "output_type": "stream",
     "text": [
      "Processing chunks: 21it [01:11,  3.41s/it]                      \n"
     ]
    },
    {
     "name": "stdout",
     "output_type": "stream",
     "text": [
      "Average Loss: 0.8704\n",
      "Average Accuracy: 0.6033\n",
      "Epoch 67/100\n"
     ]
    },
    {
     "name": "stderr",
     "output_type": "stream",
     "text": [
      "Processing chunks: 21it [01:11,  3.39s/it]                      \n"
     ]
    },
    {
     "name": "stdout",
     "output_type": "stream",
     "text": [
      "Average Loss: 0.8677\n",
      "Average Accuracy: 0.6030\n",
      "Epoch 68/100\n"
     ]
    },
    {
     "name": "stderr",
     "output_type": "stream",
     "text": [
      "Processing chunks: 21it [01:11,  3.40s/it]                      \n"
     ]
    },
    {
     "name": "stdout",
     "output_type": "stream",
     "text": [
      "Average Loss: 0.8611\n",
      "Average Accuracy: 0.6044\n",
      "Epoch 69/100\n"
     ]
    },
    {
     "name": "stderr",
     "output_type": "stream",
     "text": [
      "Processing chunks: 21it [01:11,  3.39s/it]                      \n"
     ]
    },
    {
     "name": "stdout",
     "output_type": "stream",
     "text": [
      "Average Loss: 0.8572\n",
      "Average Accuracy: 0.6067\n",
      "Epoch 70/100\n"
     ]
    },
    {
     "name": "stderr",
     "output_type": "stream",
     "text": [
      "Processing chunks: 21it [01:11,  3.40s/it]                      \n"
     ]
    },
    {
     "name": "stdout",
     "output_type": "stream",
     "text": [
      "Average Loss: 0.8566\n",
      "Average Accuracy: 0.6052\n",
      "Epoch 71/100\n"
     ]
    },
    {
     "name": "stderr",
     "output_type": "stream",
     "text": [
      "Processing chunks: 21it [01:11,  3.39s/it]                      \n"
     ]
    },
    {
     "name": "stdout",
     "output_type": "stream",
     "text": [
      "Average Loss: 0.8558\n",
      "Average Accuracy: 0.6060\n",
      "Epoch 72/100\n"
     ]
    },
    {
     "name": "stderr",
     "output_type": "stream",
     "text": [
      "Processing chunks: 21it [01:11,  3.40s/it]                      \n"
     ]
    },
    {
     "name": "stdout",
     "output_type": "stream",
     "text": [
      "Average Loss: 0.8528\n",
      "Average Accuracy: 0.6068\n",
      "Epoch 73/100\n"
     ]
    },
    {
     "name": "stderr",
     "output_type": "stream",
     "text": [
      "Processing chunks: 21it [01:11,  3.41s/it]                      \n"
     ]
    },
    {
     "name": "stdout",
     "output_type": "stream",
     "text": [
      "Average Loss: 0.8508\n",
      "Average Accuracy: 0.6085\n",
      "Epoch 74/100\n"
     ]
    },
    {
     "name": "stderr",
     "output_type": "stream",
     "text": [
      "Processing chunks: 21it [01:11,  3.41s/it]                      \n"
     ]
    },
    {
     "name": "stdout",
     "output_type": "stream",
     "text": [
      "Average Loss: 0.8471\n",
      "Average Accuracy: 0.6076\n",
      "Epoch 75/100\n"
     ]
    },
    {
     "name": "stderr",
     "output_type": "stream",
     "text": [
      "Processing chunks: 21it [01:11,  3.41s/it]                      \n"
     ]
    },
    {
     "name": "stdout",
     "output_type": "stream",
     "text": [
      "Average Loss: 0.8466\n",
      "Average Accuracy: 0.6092\n",
      "Epoch 76/100\n"
     ]
    },
    {
     "name": "stderr",
     "output_type": "stream",
     "text": [
      "Processing chunks: 21it [01:11,  3.42s/it]                      \n"
     ]
    },
    {
     "name": "stdout",
     "output_type": "stream",
     "text": [
      "Average Loss: 0.8404\n",
      "Average Accuracy: 0.6106\n",
      "Epoch 77/100\n"
     ]
    },
    {
     "name": "stderr",
     "output_type": "stream",
     "text": [
      "Processing chunks: 21it [01:11,  3.40s/it]                      \n"
     ]
    },
    {
     "name": "stdout",
     "output_type": "stream",
     "text": [
      "Average Loss: 0.8387\n",
      "Average Accuracy: 0.6086\n",
      "Ending batch's epoch's early, epoch_avg_acc[-1] = 0.6086 <= epoch_avg_acc[-5] = 0.6085\n",
      "Epoch 78/100\n"
     ]
    },
    {
     "name": "stderr",
     "output_type": "stream",
     "text": [
      "Processing chunks: 21it [01:11,  3.42s/it]                      \n"
     ]
    },
    {
     "name": "stdout",
     "output_type": "stream",
     "text": [
      "Average Loss: 0.8363\n",
      "Average Accuracy: 0.6109\n",
      "Epoch 79/100\n"
     ]
    },
    {
     "name": "stderr",
     "output_type": "stream",
     "text": [
      "Processing chunks: 21it [01:11,  3.39s/it]                      \n"
     ]
    },
    {
     "name": "stdout",
     "output_type": "stream",
     "text": [
      "Average Loss: 0.8389\n",
      "Average Accuracy: 0.6121\n",
      "Epoch 80/100\n"
     ]
    },
    {
     "name": "stderr",
     "output_type": "stream",
     "text": [
      "Processing chunks: 21it [01:11,  3.40s/it]                      \n"
     ]
    },
    {
     "name": "stdout",
     "output_type": "stream",
     "text": [
      "Average Loss: 0.8322\n",
      "Average Accuracy: 0.6131\n",
      "Epoch 81/100\n"
     ]
    },
    {
     "name": "stderr",
     "output_type": "stream",
     "text": [
      "Processing chunks: 21it [01:11,  3.39s/it]                      \n"
     ]
    },
    {
     "name": "stdout",
     "output_type": "stream",
     "text": [
      "Average Loss: 0.8295\n",
      "Average Accuracy: 0.6124\n",
      "Epoch 82/100\n"
     ]
    },
    {
     "name": "stderr",
     "output_type": "stream",
     "text": [
      "Processing chunks: 21it [01:11,  3.39s/it]                      \n"
     ]
    },
    {
     "name": "stdout",
     "output_type": "stream",
     "text": [
      "Average Loss: 0.8286\n",
      "Average Accuracy: 0.6122\n",
      "Epoch 83/100\n"
     ]
    },
    {
     "name": "stderr",
     "output_type": "stream",
     "text": [
      "Processing chunks: 21it [01:11,  3.39s/it]                      \n"
     ]
    },
    {
     "name": "stdout",
     "output_type": "stream",
     "text": [
      "Average Loss: 0.8272\n",
      "Average Accuracy: 0.6147\n",
      "Epoch 84/100\n"
     ]
    },
    {
     "name": "stderr",
     "output_type": "stream",
     "text": [
      "Processing chunks: 21it [01:11,  3.40s/it]                      \n"
     ]
    },
    {
     "name": "stdout",
     "output_type": "stream",
     "text": [
      "Average Loss: 0.8262\n",
      "Average Accuracy: 0.6147\n",
      "Epoch 85/100\n"
     ]
    },
    {
     "name": "stderr",
     "output_type": "stream",
     "text": [
      "Processing chunks: 21it [01:11,  3.40s/it]                      \n"
     ]
    },
    {
     "name": "stdout",
     "output_type": "stream",
     "text": [
      "Average Loss: 0.8307\n",
      "Average Accuracy: 0.6153\n",
      "Epoch 86/100\n"
     ]
    },
    {
     "name": "stderr",
     "output_type": "stream",
     "text": [
      "Processing chunks: 21it [01:11,  3.41s/it]                      \n"
     ]
    },
    {
     "name": "stdout",
     "output_type": "stream",
     "text": [
      "Average Loss: 0.8258\n",
      "Average Accuracy: 0.6147\n",
      "Epoch 87/100\n"
     ]
    },
    {
     "name": "stderr",
     "output_type": "stream",
     "text": [
      "Processing chunks: 21it [01:11,  3.40s/it]                      \n"
     ]
    },
    {
     "name": "stdout",
     "output_type": "stream",
     "text": [
      "Average Loss: 0.8201\n",
      "Average Accuracy: 0.6166\n",
      "Epoch 88/100\n"
     ]
    },
    {
     "name": "stderr",
     "output_type": "stream",
     "text": [
      "Processing chunks: 21it [01:11,  3.40s/it]                      \n"
     ]
    },
    {
     "name": "stdout",
     "output_type": "stream",
     "text": [
      "Average Loss: 0.8212\n",
      "Average Accuracy: 0.6165\n",
      "Epoch 89/100\n"
     ]
    },
    {
     "name": "stderr",
     "output_type": "stream",
     "text": [
      "Processing chunks: 21it [01:11,  3.40s/it]                      \n"
     ]
    },
    {
     "name": "stdout",
     "output_type": "stream",
     "text": [
      "Average Loss: 0.8191\n",
      "Average Accuracy: 0.6181\n",
      "Epoch 90/100\n"
     ]
    },
    {
     "name": "stderr",
     "output_type": "stream",
     "text": [
      "Processing chunks: 21it [01:11,  3.41s/it]                      \n"
     ]
    },
    {
     "name": "stdout",
     "output_type": "stream",
     "text": [
      "Average Loss: 0.8134\n",
      "Average Accuracy: 0.6175\n",
      "Epoch 91/100\n"
     ]
    },
    {
     "name": "stderr",
     "output_type": "stream",
     "text": [
      "Processing chunks: 21it [01:11,  3.39s/it]                      \n"
     ]
    },
    {
     "name": "stdout",
     "output_type": "stream",
     "text": [
      "Average Loss: 0.8113\n",
      "Average Accuracy: 0.6186\n",
      "Epoch 92/100\n"
     ]
    },
    {
     "name": "stderr",
     "output_type": "stream",
     "text": [
      "Processing chunks: 21it [01:11,  3.41s/it]                      \n"
     ]
    },
    {
     "name": "stdout",
     "output_type": "stream",
     "text": [
      "Average Loss: 0.8043\n",
      "Average Accuracy: 0.6207\n",
      "Epoch 93/100\n"
     ]
    },
    {
     "name": "stderr",
     "output_type": "stream",
     "text": [
      "Processing chunks: 21it [01:11,  3.38s/it]                      \n"
     ]
    },
    {
     "name": "stdout",
     "output_type": "stream",
     "text": [
      "Average Loss: 0.8105\n",
      "Average Accuracy: 0.6193\n",
      "Epoch 94/100\n"
     ]
    },
    {
     "name": "stderr",
     "output_type": "stream",
     "text": [
      "Processing chunks: 21it [01:11,  3.39s/it]                      \n"
     ]
    },
    {
     "name": "stdout",
     "output_type": "stream",
     "text": [
      "Average Loss: 0.8091\n",
      "Average Accuracy: 0.6194\n",
      "Epoch 95/100\n"
     ]
    },
    {
     "name": "stderr",
     "output_type": "stream",
     "text": [
      "Processing chunks: 21it [01:11,  3.39s/it]                      \n"
     ]
    },
    {
     "name": "stdout",
     "output_type": "stream",
     "text": [
      "Average Loss: 0.8103\n",
      "Average Accuracy: 0.6203\n",
      "Epoch 96/100\n"
     ]
    },
    {
     "name": "stderr",
     "output_type": "stream",
     "text": [
      "Processing chunks: 21it [01:11,  3.39s/it]                      \n"
     ]
    },
    {
     "name": "stdout",
     "output_type": "stream",
     "text": [
      "Average Loss: 0.8075\n",
      "Average Accuracy: 0.6210\n",
      "Ending batch's epoch's early, epoch_avg_acc[-1] = 0.6210 <= epoch_avg_acc[-5] = 0.6207\n",
      "Epoch 97/100\n"
     ]
    },
    {
     "name": "stderr",
     "output_type": "stream",
     "text": [
      "Processing chunks: 21it [01:11,  3.40s/it]                      \n"
     ]
    },
    {
     "name": "stdout",
     "output_type": "stream",
     "text": [
      "Average Loss: 0.7965\n",
      "Average Accuracy: 0.6222\n",
      "Epoch 98/100\n"
     ]
    },
    {
     "name": "stderr",
     "output_type": "stream",
     "text": [
      "Processing chunks: 21it [01:11,  3.40s/it]                      \n"
     ]
    },
    {
     "name": "stdout",
     "output_type": "stream",
     "text": [
      "Average Loss: 0.8001\n",
      "Average Accuracy: 0.6241\n",
      "Epoch 99/100\n"
     ]
    },
    {
     "name": "stderr",
     "output_type": "stream",
     "text": [
      "Processing chunks: 21it [01:11,  3.40s/it]                      \n"
     ]
    },
    {
     "name": "stdout",
     "output_type": "stream",
     "text": [
      "Average Loss: 0.8014\n",
      "Average Accuracy: 0.6218\n",
      "Epoch 100/100\n"
     ]
    },
    {
     "name": "stderr",
     "output_type": "stream",
     "text": [
      "Processing chunks: 21it [01:11,  3.41s/it]                      \n"
     ]
    },
    {
     "name": "stdout",
     "output_type": "stream",
     "text": [
      "Average Loss: 0.7982\n",
      "Average Accuracy: 0.6232\n",
      "Processing directory: ./data/2024-03-29-06-17-07\n",
      "Epoch 1/100\n"
     ]
    },
    {
     "name": "stderr",
     "output_type": "stream",
     "text": [
      "Processing chunks: 21it [01:12,  3.45s/it]                      \n"
     ]
    },
    {
     "name": "stdout",
     "output_type": "stream",
     "text": [
      "Average Loss: 1.4212\n",
      "Average Accuracy: 0.5666\n",
      "Epoch 2/100\n"
     ]
    },
    {
     "name": "stderr",
     "output_type": "stream",
     "text": [
      "Processing chunks: 21it [01:12,  3.44s/it]                      \n"
     ]
    },
    {
     "name": "stdout",
     "output_type": "stream",
     "text": [
      "Average Loss: 1.3532\n",
      "Average Accuracy: 0.5708\n",
      "Epoch 3/100\n"
     ]
    },
    {
     "name": "stderr",
     "output_type": "stream",
     "text": [
      "Processing chunks: 21it [01:12,  3.44s/it]                      \n"
     ]
    },
    {
     "name": "stdout",
     "output_type": "stream",
     "text": [
      "Average Loss: 1.3458\n",
      "Average Accuracy: 0.5708\n",
      "Epoch 4/100\n"
     ]
    },
    {
     "name": "stderr",
     "output_type": "stream",
     "text": [
      "Processing chunks: 21it [01:12,  3.45s/it]                      \n"
     ]
    },
    {
     "name": "stdout",
     "output_type": "stream",
     "text": [
      "Average Loss: 1.3393\n",
      "Average Accuracy: 0.5710\n",
      "Epoch 5/100\n"
     ]
    },
    {
     "name": "stderr",
     "output_type": "stream",
     "text": [
      "Processing chunks: 21it [01:12,  3.44s/it]                      \n"
     ]
    },
    {
     "name": "stdout",
     "output_type": "stream",
     "text": [
      "Average Loss: 1.3441\n",
      "Average Accuracy: 0.5696\n",
      "Epoch 6/100\n"
     ]
    },
    {
     "name": "stderr",
     "output_type": "stream",
     "text": [
      "Processing chunks: 21it [01:12,  3.44s/it]                      \n"
     ]
    },
    {
     "name": "stdout",
     "output_type": "stream",
     "text": [
      "Average Loss: 1.3414\n",
      "Average Accuracy: 0.5693\n",
      "Ending batch's epoch's early, epoch_avg_acc[-1] = 0.5693 <= epoch_avg_acc[-5] = 0.5708\n",
      "Epoch 7/100\n"
     ]
    },
    {
     "name": "stderr",
     "output_type": "stream",
     "text": [
      "Processing chunks: 21it [01:12,  3.45s/it]                      \n"
     ]
    },
    {
     "name": "stdout",
     "output_type": "stream",
     "text": [
      "Average Loss: 1.3319\n",
      "Average Accuracy: 0.5698\n",
      "Ending batch's epoch's early, epoch_avg_acc[-1] = 0.5698 <= epoch_avg_acc[-5] = 0.5708\n",
      "Epoch 8/100\n"
     ]
    },
    {
     "name": "stderr",
     "output_type": "stream",
     "text": [
      "Processing chunks: 21it [01:12,  3.45s/it]                      \n"
     ]
    },
    {
     "name": "stdout",
     "output_type": "stream",
     "text": [
      "Average Loss: 1.3195\n",
      "Average Accuracy: 0.5702\n",
      "Ending batch's epoch's early, epoch_avg_acc[-1] = 0.5702 <= epoch_avg_acc[-5] = 0.5710\n",
      "Epoch 9/100\n"
     ]
    },
    {
     "name": "stderr",
     "output_type": "stream",
     "text": [
      "Processing chunks: 21it [01:12,  3.44s/it]                      \n"
     ]
    },
    {
     "name": "stdout",
     "output_type": "stream",
     "text": [
      "Average Loss: 1.3089\n",
      "Average Accuracy: 0.5705\n",
      "Ending batch's epoch's early, epoch_avg_acc[-1] = 0.5705 <= epoch_avg_acc[-5] = 0.5696\n",
      "Epoch 10/100\n"
     ]
    },
    {
     "name": "stderr",
     "output_type": "stream",
     "text": [
      "Processing chunks: 21it [01:12,  3.44s/it]                      \n"
     ]
    },
    {
     "name": "stdout",
     "output_type": "stream",
     "text": [
      "Average Loss: 1.2945\n",
      "Average Accuracy: 0.5718\n",
      "Epoch 11/100\n"
     ]
    },
    {
     "name": "stderr",
     "output_type": "stream",
     "text": [
      "Processing chunks: 21it [01:12,  3.43s/it]                      \n"
     ]
    },
    {
     "name": "stdout",
     "output_type": "stream",
     "text": [
      "Average Loss: 1.2790\n",
      "Average Accuracy: 0.5735\n",
      "Epoch 12/100\n"
     ]
    },
    {
     "name": "stderr",
     "output_type": "stream",
     "text": [
      "Processing chunks: 21it [01:12,  3.45s/it]                      \n"
     ]
    },
    {
     "name": "stdout",
     "output_type": "stream",
     "text": [
      "Average Loss: 1.2662\n",
      "Average Accuracy: 0.5741\n",
      "Epoch 13/100\n"
     ]
    },
    {
     "name": "stderr",
     "output_type": "stream",
     "text": [
      "Processing chunks: 21it [01:12,  3.44s/it]                      \n"
     ]
    },
    {
     "name": "stdout",
     "output_type": "stream",
     "text": [
      "Average Loss: 1.2509\n",
      "Average Accuracy: 0.5756\n",
      "Epoch 14/100\n"
     ]
    },
    {
     "name": "stderr",
     "output_type": "stream",
     "text": [
      "Processing chunks: 21it [01:12,  3.45s/it]                      \n"
     ]
    },
    {
     "name": "stdout",
     "output_type": "stream",
     "text": [
      "Average Loss: 1.2385\n",
      "Average Accuracy: 0.5757\n",
      "Epoch 15/100\n"
     ]
    },
    {
     "name": "stderr",
     "output_type": "stream",
     "text": [
      "Processing chunks: 21it [01:12,  3.44s/it]                      \n"
     ]
    },
    {
     "name": "stdout",
     "output_type": "stream",
     "text": [
      "Average Loss: 1.2253\n",
      "Average Accuracy: 0.5763\n",
      "Epoch 16/100\n"
     ]
    },
    {
     "name": "stderr",
     "output_type": "stream",
     "text": [
      "Processing chunks: 21it [01:12,  3.44s/it]                      \n"
     ]
    },
    {
     "name": "stdout",
     "output_type": "stream",
     "text": [
      "Average Loss: 1.2154\n",
      "Average Accuracy: 0.5762\n",
      "Epoch 17/100\n"
     ]
    },
    {
     "name": "stderr",
     "output_type": "stream",
     "text": [
      "Processing chunks: 21it [01:12,  3.45s/it]                      \n"
     ]
    },
    {
     "name": "stdout",
     "output_type": "stream",
     "text": [
      "Average Loss: 1.2053\n",
      "Average Accuracy: 0.5770\n",
      "Epoch 18/100\n"
     ]
    },
    {
     "name": "stderr",
     "output_type": "stream",
     "text": [
      "Processing chunks: 21it [01:12,  3.44s/it]                      \n"
     ]
    },
    {
     "name": "stdout",
     "output_type": "stream",
     "text": [
      "Average Loss: 1.1933\n",
      "Average Accuracy: 0.5772\n",
      "Epoch 19/100\n"
     ]
    },
    {
     "name": "stderr",
     "output_type": "stream",
     "text": [
      "Processing chunks: 21it [01:12,  3.44s/it]                      \n"
     ]
    },
    {
     "name": "stdout",
     "output_type": "stream",
     "text": [
      "Average Loss: 1.1843\n",
      "Average Accuracy: 0.5773\n",
      "Ending batch's epoch's early, epoch_avg_acc[-1] = 0.5773 <= epoch_avg_acc[-5] = 0.5763\n",
      "Epoch 20/100\n"
     ]
    },
    {
     "name": "stderr",
     "output_type": "stream",
     "text": [
      "Processing chunks: 21it [01:12,  3.44s/it]                      \n"
     ]
    },
    {
     "name": "stdout",
     "output_type": "stream",
     "text": [
      "Average Loss: 1.1753\n",
      "Average Accuracy: 0.5778\n",
      "Epoch 21/100\n"
     ]
    },
    {
     "name": "stderr",
     "output_type": "stream",
     "text": [
      "Processing chunks: 21it [01:12,  3.43s/it]                      \n"
     ]
    },
    {
     "name": "stdout",
     "output_type": "stream",
     "text": [
      "Average Loss: 1.1662\n",
      "Average Accuracy: 0.5785\n",
      "Epoch 22/100\n"
     ]
    },
    {
     "name": "stderr",
     "output_type": "stream",
     "text": [
      "Processing chunks: 21it [01:12,  3.44s/it]                      \n"
     ]
    },
    {
     "name": "stdout",
     "output_type": "stream",
     "text": [
      "Average Loss: 1.1596\n",
      "Average Accuracy: 0.5786\n",
      "Epoch 23/100\n"
     ]
    },
    {
     "name": "stderr",
     "output_type": "stream",
     "text": [
      "Processing chunks: 21it [01:12,  3.44s/it]                      \n"
     ]
    },
    {
     "name": "stdout",
     "output_type": "stream",
     "text": [
      "Average Loss: 1.1518\n",
      "Average Accuracy: 0.5790\n",
      "Epoch 24/100\n"
     ]
    },
    {
     "name": "stderr",
     "output_type": "stream",
     "text": [
      "Processing chunks: 21it [01:12,  3.45s/it]                      \n"
     ]
    },
    {
     "name": "stdout",
     "output_type": "stream",
     "text": [
      "Average Loss: 1.1414\n",
      "Average Accuracy: 0.5793\n",
      "Epoch 25/100\n"
     ]
    },
    {
     "name": "stderr",
     "output_type": "stream",
     "text": [
      "Processing chunks: 21it [01:12,  3.44s/it]                      \n"
     ]
    },
    {
     "name": "stdout",
     "output_type": "stream",
     "text": [
      "Average Loss: 1.1341\n",
      "Average Accuracy: 0.5797\n",
      "Epoch 26/100\n"
     ]
    },
    {
     "name": "stderr",
     "output_type": "stream",
     "text": [
      "Processing chunks: 21it [01:12,  3.45s/it]                      \n"
     ]
    },
    {
     "name": "stdout",
     "output_type": "stream",
     "text": [
      "Average Loss: 1.1279\n",
      "Average Accuracy: 0.5801\n",
      "Epoch 27/100\n"
     ]
    },
    {
     "name": "stderr",
     "output_type": "stream",
     "text": [
      "Processing chunks: 21it [01:12,  3.44s/it]                      \n"
     ]
    },
    {
     "name": "stdout",
     "output_type": "stream",
     "text": [
      "Average Loss: 1.1206\n",
      "Average Accuracy: 0.5805\n",
      "Epoch 28/100\n"
     ]
    },
    {
     "name": "stderr",
     "output_type": "stream",
     "text": [
      "Processing chunks: 21it [01:12,  3.44s/it]                      \n"
     ]
    },
    {
     "name": "stdout",
     "output_type": "stream",
     "text": [
      "Average Loss: 1.1158\n",
      "Average Accuracy: 0.5810\n",
      "Epoch 29/100\n"
     ]
    },
    {
     "name": "stderr",
     "output_type": "stream",
     "text": [
      "Processing chunks: 21it [01:12,  3.44s/it]                      \n"
     ]
    },
    {
     "name": "stdout",
     "output_type": "stream",
     "text": [
      "Average Loss: 1.1082\n",
      "Average Accuracy: 0.5814\n",
      "Epoch 30/100\n"
     ]
    },
    {
     "name": "stderr",
     "output_type": "stream",
     "text": [
      "Processing chunks: 21it [01:12,  3.45s/it]                      \n"
     ]
    },
    {
     "name": "stdout",
     "output_type": "stream",
     "text": [
      "Average Loss: 1.1020\n",
      "Average Accuracy: 0.5821\n",
      "Epoch 31/100\n"
     ]
    },
    {
     "name": "stderr",
     "output_type": "stream",
     "text": [
      "Processing chunks: 21it [01:12,  3.45s/it]                      \n"
     ]
    },
    {
     "name": "stdout",
     "output_type": "stream",
     "text": [
      "Average Loss: 1.0958\n",
      "Average Accuracy: 0.5823\n",
      "Epoch 32/100\n"
     ]
    },
    {
     "name": "stderr",
     "output_type": "stream",
     "text": [
      "Processing chunks: 21it [01:12,  3.44s/it]                      \n"
     ]
    },
    {
     "name": "stdout",
     "output_type": "stream",
     "text": [
      "Average Loss: 1.0915\n",
      "Average Accuracy: 0.5835\n",
      "Epoch 33/100\n"
     ]
    },
    {
     "name": "stderr",
     "output_type": "stream",
     "text": [
      "Processing chunks: 21it [01:12,  3.44s/it]                      \n"
     ]
    },
    {
     "name": "stdout",
     "output_type": "stream",
     "text": [
      "Average Loss: 1.0850\n",
      "Average Accuracy: 0.5836\n",
      "Epoch 34/100\n"
     ]
    },
    {
     "name": "stderr",
     "output_type": "stream",
     "text": [
      "Processing chunks: 21it [01:12,  3.44s/it]                      \n"
     ]
    },
    {
     "name": "stdout",
     "output_type": "stream",
     "text": [
      "Average Loss: 1.0809\n",
      "Average Accuracy: 0.5835\n",
      "Epoch 35/100\n"
     ]
    },
    {
     "name": "stderr",
     "output_type": "stream",
     "text": [
      "Processing chunks: 21it [01:12,  3.44s/it]                      \n"
     ]
    },
    {
     "name": "stdout",
     "output_type": "stream",
     "text": [
      "Average Loss: 1.0758\n",
      "Average Accuracy: 0.5847\n",
      "Epoch 36/100\n"
     ]
    },
    {
     "name": "stderr",
     "output_type": "stream",
     "text": [
      "Processing chunks: 21it [01:12,  3.44s/it]                      \n"
     ]
    },
    {
     "name": "stdout",
     "output_type": "stream",
     "text": [
      "Average Loss: 1.0692\n",
      "Average Accuracy: 0.5853\n",
      "Epoch 37/100\n"
     ]
    },
    {
     "name": "stderr",
     "output_type": "stream",
     "text": [
      "Processing chunks: 21it [01:12,  3.44s/it]                      \n"
     ]
    },
    {
     "name": "stdout",
     "output_type": "stream",
     "text": [
      "Average Loss: 1.0643\n",
      "Average Accuracy: 0.5853\n",
      "Epoch 38/100\n"
     ]
    },
    {
     "name": "stderr",
     "output_type": "stream",
     "text": [
      "Processing chunks: 21it [01:12,  3.44s/it]                      \n"
     ]
    },
    {
     "name": "stdout",
     "output_type": "stream",
     "text": [
      "Average Loss: 1.0606\n",
      "Average Accuracy: 0.5863\n",
      "Epoch 39/100\n"
     ]
    },
    {
     "name": "stderr",
     "output_type": "stream",
     "text": [
      "Processing chunks: 21it [01:12,  3.44s/it]                      \n"
     ]
    },
    {
     "name": "stdout",
     "output_type": "stream",
     "text": [
      "Average Loss: 1.0564\n",
      "Average Accuracy: 0.5858\n",
      "Epoch 40/100\n"
     ]
    },
    {
     "name": "stderr",
     "output_type": "stream",
     "text": [
      "Processing chunks: 21it [01:12,  3.44s/it]                      \n"
     ]
    },
    {
     "name": "stdout",
     "output_type": "stream",
     "text": [
      "Average Loss: 1.0529\n",
      "Average Accuracy: 0.5867\n",
      "Epoch 41/100\n"
     ]
    },
    {
     "name": "stderr",
     "output_type": "stream",
     "text": [
      "Processing chunks: 21it [01:12,  3.44s/it]                      \n"
     ]
    },
    {
     "name": "stdout",
     "output_type": "stream",
     "text": [
      "Average Loss: 1.0485\n",
      "Average Accuracy: 0.5874\n",
      "Epoch 42/100\n"
     ]
    },
    {
     "name": "stderr",
     "output_type": "stream",
     "text": [
      "Processing chunks: 21it [01:12,  3.44s/it]                      \n"
     ]
    },
    {
     "name": "stdout",
     "output_type": "stream",
     "text": [
      "Average Loss: 1.0415\n",
      "Average Accuracy: 0.5875\n",
      "Epoch 43/100\n"
     ]
    },
    {
     "name": "stderr",
     "output_type": "stream",
     "text": [
      "Processing chunks: 21it [01:12,  3.44s/it]                      \n"
     ]
    },
    {
     "name": "stdout",
     "output_type": "stream",
     "text": [
      "Average Loss: 1.0431\n",
      "Average Accuracy: 0.5875\n",
      "Epoch 44/100\n"
     ]
    },
    {
     "name": "stderr",
     "output_type": "stream",
     "text": [
      "Processing chunks: 21it [01:12,  3.44s/it]                      \n"
     ]
    },
    {
     "name": "stdout",
     "output_type": "stream",
     "text": [
      "Average Loss: 1.0363\n",
      "Average Accuracy: 0.5893\n",
      "Epoch 45/100\n"
     ]
    },
    {
     "name": "stderr",
     "output_type": "stream",
     "text": [
      "Processing chunks: 21it [01:12,  3.43s/it]                      \n"
     ]
    },
    {
     "name": "stdout",
     "output_type": "stream",
     "text": [
      "Average Loss: 1.0317\n",
      "Average Accuracy: 0.5894\n",
      "Epoch 46/100\n"
     ]
    },
    {
     "name": "stderr",
     "output_type": "stream",
     "text": [
      "Processing chunks: 21it [01:12,  3.44s/it]                      \n"
     ]
    },
    {
     "name": "stdout",
     "output_type": "stream",
     "text": [
      "Average Loss: 1.0284\n",
      "Average Accuracy: 0.5895\n",
      "Epoch 47/100\n"
     ]
    },
    {
     "name": "stderr",
     "output_type": "stream",
     "text": [
      "Processing chunks: 21it [01:12,  3.44s/it]                      \n"
     ]
    },
    {
     "name": "stdout",
     "output_type": "stream",
     "text": [
      "Average Loss: 1.0250\n",
      "Average Accuracy: 0.5900\n",
      "Epoch 48/100\n"
     ]
    },
    {
     "name": "stderr",
     "output_type": "stream",
     "text": [
      "Processing chunks: 21it [01:12,  3.45s/it]                      \n"
     ]
    },
    {
     "name": "stdout",
     "output_type": "stream",
     "text": [
      "Average Loss: 1.0210\n",
      "Average Accuracy: 0.5913\n",
      "Epoch 49/100\n"
     ]
    },
    {
     "name": "stderr",
     "output_type": "stream",
     "text": [
      "Processing chunks: 21it [01:12,  3.45s/it]                      \n"
     ]
    },
    {
     "name": "stdout",
     "output_type": "stream",
     "text": [
      "Average Loss: 1.0193\n",
      "Average Accuracy: 0.5911\n",
      "Epoch 50/100\n"
     ]
    },
    {
     "name": "stderr",
     "output_type": "stream",
     "text": [
      "Processing chunks: 21it [01:12,  3.46s/it]                      \n"
     ]
    },
    {
     "name": "stdout",
     "output_type": "stream",
     "text": [
      "Average Loss: 1.0199\n",
      "Average Accuracy: 0.5913\n",
      "Epoch 51/100\n"
     ]
    },
    {
     "name": "stderr",
     "output_type": "stream",
     "text": [
      "Processing chunks: 21it [01:12,  3.45s/it]                      \n"
     ]
    },
    {
     "name": "stdout",
     "output_type": "stream",
     "text": [
      "Average Loss: 1.0118\n",
      "Average Accuracy: 0.5914\n",
      "Epoch 52/100\n"
     ]
    },
    {
     "name": "stderr",
     "output_type": "stream",
     "text": [
      "Processing chunks: 21it [01:12,  3.46s/it]                      \n"
     ]
    },
    {
     "name": "stdout",
     "output_type": "stream",
     "text": [
      "Average Loss: 1.0070\n",
      "Average Accuracy: 0.5919\n",
      "Ending batch's epoch's early, epoch_avg_acc[-1] = 0.5919 <= epoch_avg_acc[-5] = 0.5913\n",
      "Epoch 53/100\n"
     ]
    },
    {
     "name": "stderr",
     "output_type": "stream",
     "text": [
      "Processing chunks: 21it [01:12,  3.46s/it]                      \n"
     ]
    },
    {
     "name": "stdout",
     "output_type": "stream",
     "text": [
      "Average Loss: 1.0029\n",
      "Average Accuracy: 0.5931\n",
      "Epoch 54/100\n"
     ]
    },
    {
     "name": "stderr",
     "output_type": "stream",
     "text": [
      "Processing chunks: 21it [01:12,  3.46s/it]                      \n"
     ]
    },
    {
     "name": "stdout",
     "output_type": "stream",
     "text": [
      "Average Loss: 1.0029\n",
      "Average Accuracy: 0.5930\n",
      "Epoch 55/100\n"
     ]
    },
    {
     "name": "stderr",
     "output_type": "stream",
     "text": [
      "Processing chunks: 21it [01:12,  3.46s/it]                      \n"
     ]
    },
    {
     "name": "stdout",
     "output_type": "stream",
     "text": [
      "Average Loss: 0.9995\n",
      "Average Accuracy: 0.5936\n",
      "Epoch 56/100\n"
     ]
    },
    {
     "name": "stderr",
     "output_type": "stream",
     "text": [
      "Processing chunks: 21it [01:12,  3.46s/it]                      \n"
     ]
    },
    {
     "name": "stdout",
     "output_type": "stream",
     "text": [
      "Average Loss: 0.9962\n",
      "Average Accuracy: 0.5945\n",
      "Epoch 57/100\n"
     ]
    },
    {
     "name": "stderr",
     "output_type": "stream",
     "text": [
      "Processing chunks: 21it [01:12,  3.46s/it]                      \n"
     ]
    },
    {
     "name": "stdout",
     "output_type": "stream",
     "text": [
      "Average Loss: 0.9931\n",
      "Average Accuracy: 0.5941\n",
      "Epoch 58/100\n"
     ]
    },
    {
     "name": "stderr",
     "output_type": "stream",
     "text": [
      "Processing chunks: 21it [01:12,  3.46s/it]                      \n"
     ]
    },
    {
     "name": "stdout",
     "output_type": "stream",
     "text": [
      "Average Loss: 0.9904\n",
      "Average Accuracy: 0.5939\n",
      "Ending batch's epoch's early, epoch_avg_acc[-1] = 0.5939 <= epoch_avg_acc[-5] = 0.5930\n",
      "Epoch 59/100\n"
     ]
    },
    {
     "name": "stderr",
     "output_type": "stream",
     "text": [
      "Processing chunks: 21it [01:12,  3.46s/it]                      \n"
     ]
    },
    {
     "name": "stdout",
     "output_type": "stream",
     "text": [
      "Average Loss: 0.9881\n",
      "Average Accuracy: 0.5947\n",
      "Epoch 60/100\n"
     ]
    },
    {
     "name": "stderr",
     "output_type": "stream",
     "text": [
      "Processing chunks: 21it [01:12,  3.46s/it]                      \n"
     ]
    },
    {
     "name": "stdout",
     "output_type": "stream",
     "text": [
      "Average Loss: 0.9866\n",
      "Average Accuracy: 0.5952\n",
      "Ending batch's epoch's early, epoch_avg_acc[-1] = 0.5952 <= epoch_avg_acc[-5] = 0.5945\n",
      "Epoch 61/100\n"
     ]
    },
    {
     "name": "stderr",
     "output_type": "stream",
     "text": [
      "Processing chunks: 21it [01:12,  3.45s/it]                      \n"
     ]
    },
    {
     "name": "stdout",
     "output_type": "stream",
     "text": [
      "Average Loss: 0.9817\n",
      "Average Accuracy: 0.5965\n",
      "Epoch 62/100\n"
     ]
    },
    {
     "name": "stderr",
     "output_type": "stream",
     "text": [
      "Processing chunks: 21it [01:12,  3.46s/it]                      \n"
     ]
    },
    {
     "name": "stdout",
     "output_type": "stream",
     "text": [
      "Average Loss: 0.9778\n",
      "Average Accuracy: 0.5967\n",
      "Epoch 63/100\n"
     ]
    },
    {
     "name": "stderr",
     "output_type": "stream",
     "text": [
      "Processing chunks: 21it [01:12,  3.46s/it]                      \n"
     ]
    },
    {
     "name": "stdout",
     "output_type": "stream",
     "text": [
      "Average Loss: 0.9766\n",
      "Average Accuracy: 0.5978\n",
      "Epoch 64/100\n"
     ]
    },
    {
     "name": "stderr",
     "output_type": "stream",
     "text": [
      "Processing chunks: 21it [01:12,  3.46s/it]                      \n"
     ]
    },
    {
     "name": "stdout",
     "output_type": "stream",
     "text": [
      "Average Loss: 0.9757\n",
      "Average Accuracy: 0.5975\n",
      "Epoch 65/100\n"
     ]
    },
    {
     "name": "stderr",
     "output_type": "stream",
     "text": [
      "Processing chunks: 21it [01:12,  3.46s/it]                      \n"
     ]
    },
    {
     "name": "stdout",
     "output_type": "stream",
     "text": [
      "Average Loss: 0.9749\n",
      "Average Accuracy: 0.5980\n",
      "Epoch 66/100\n"
     ]
    },
    {
     "name": "stderr",
     "output_type": "stream",
     "text": [
      "Processing chunks: 21it [01:12,  3.46s/it]                      \n"
     ]
    },
    {
     "name": "stdout",
     "output_type": "stream",
     "text": [
      "Average Loss: 0.9715\n",
      "Average Accuracy: 0.5977\n",
      "Epoch 67/100\n"
     ]
    },
    {
     "name": "stderr",
     "output_type": "stream",
     "text": [
      "Processing chunks: 21it [01:12,  3.45s/it]                      \n"
     ]
    },
    {
     "name": "stdout",
     "output_type": "stream",
     "text": [
      "Average Loss: 0.9687\n",
      "Average Accuracy: 0.5983\n",
      "Ending batch's epoch's early, epoch_avg_acc[-1] = 0.5983 <= epoch_avg_acc[-5] = 0.5978\n",
      "Epoch 68/100\n"
     ]
    },
    {
     "name": "stderr",
     "output_type": "stream",
     "text": [
      "Processing chunks: 21it [01:12,  3.46s/it]                      \n"
     ]
    },
    {
     "name": "stdout",
     "output_type": "stream",
     "text": [
      "Average Loss: 0.9631\n",
      "Average Accuracy: 0.5993\n",
      "Epoch 69/100\n"
     ]
    },
    {
     "name": "stderr",
     "output_type": "stream",
     "text": [
      "Processing chunks: 21it [01:12,  3.45s/it]                      \n"
     ]
    },
    {
     "name": "stdout",
     "output_type": "stream",
     "text": [
      "Average Loss: 0.9599\n",
      "Average Accuracy: 0.6006\n",
      "Epoch 70/100\n"
     ]
    },
    {
     "name": "stderr",
     "output_type": "stream",
     "text": [
      "Processing chunks: 21it [01:12,  3.47s/it]                      \n"
     ]
    },
    {
     "name": "stdout",
     "output_type": "stream",
     "text": [
      "Average Loss: 0.9596\n",
      "Average Accuracy: 0.5994\n",
      "Epoch 71/100\n"
     ]
    },
    {
     "name": "stderr",
     "output_type": "stream",
     "text": [
      "Processing chunks: 21it [01:12,  3.46s/it]                      \n"
     ]
    },
    {
     "name": "stdout",
     "output_type": "stream",
     "text": [
      "Average Loss: 0.9575\n",
      "Average Accuracy: 0.6007\n",
      "Epoch 72/100\n"
     ]
    },
    {
     "name": "stderr",
     "output_type": "stream",
     "text": [
      "Processing chunks: 21it [01:12,  3.46s/it]                      \n"
     ]
    },
    {
     "name": "stdout",
     "output_type": "stream",
     "text": [
      "Average Loss: 0.9568\n",
      "Average Accuracy: 0.6004\n",
      "Epoch 73/100\n"
     ]
    },
    {
     "name": "stderr",
     "output_type": "stream",
     "text": [
      "Processing chunks: 21it [01:12,  3.46s/it]                      \n"
     ]
    },
    {
     "name": "stdout",
     "output_type": "stream",
     "text": [
      "Average Loss: 0.9547\n",
      "Average Accuracy: 0.6003\n",
      "Ending batch's epoch's early, epoch_avg_acc[-1] = 0.6003 <= epoch_avg_acc[-5] = 0.6006\n",
      "Epoch 74/100\n"
     ]
    },
    {
     "name": "stderr",
     "output_type": "stream",
     "text": [
      "Processing chunks: 21it [01:12,  3.46s/it]                      \n"
     ]
    },
    {
     "name": "stdout",
     "output_type": "stream",
     "text": [
      "Average Loss: 0.9523\n",
      "Average Accuracy: 0.6017\n",
      "Epoch 75/100\n"
     ]
    },
    {
     "name": "stderr",
     "output_type": "stream",
     "text": [
      "Processing chunks: 21it [01:12,  3.45s/it]                      \n"
     ]
    },
    {
     "name": "stdout",
     "output_type": "stream",
     "text": [
      "Average Loss: 0.9523\n",
      "Average Accuracy: 0.6022\n",
      "Epoch 76/100\n"
     ]
    },
    {
     "name": "stderr",
     "output_type": "stream",
     "text": [
      "Processing chunks: 21it [01:12,  3.46s/it]                      \n"
     ]
    },
    {
     "name": "stdout",
     "output_type": "stream",
     "text": [
      "Average Loss: 0.9461\n",
      "Average Accuracy: 0.6033\n",
      "Epoch 77/100\n"
     ]
    },
    {
     "name": "stderr",
     "output_type": "stream",
     "text": [
      "Processing chunks: 21it [01:12,  3.46s/it]                      \n"
     ]
    },
    {
     "name": "stdout",
     "output_type": "stream",
     "text": [
      "Average Loss: 0.9446\n",
      "Average Accuracy: 0.6029\n",
      "Epoch 78/100\n"
     ]
    },
    {
     "name": "stderr",
     "output_type": "stream",
     "text": [
      "Processing chunks: 21it [01:12,  3.45s/it]                      \n"
     ]
    },
    {
     "name": "stdout",
     "output_type": "stream",
     "text": [
      "Average Loss: 0.9568\n",
      "Average Accuracy: 0.6026\n",
      "Ending batch's epoch's early, epoch_avg_acc[-1] = 0.6026 <= epoch_avg_acc[-5] = 0.6017\n",
      "Epoch 79/100\n"
     ]
    },
    {
     "name": "stderr",
     "output_type": "stream",
     "text": [
      "Processing chunks: 21it [01:12,  3.45s/it]                      \n"
     ]
    },
    {
     "name": "stdout",
     "output_type": "stream",
     "text": [
      "Average Loss: 0.9402\n",
      "Average Accuracy: 0.6030\n",
      "Ending batch's epoch's early, epoch_avg_acc[-1] = 0.6030 <= epoch_avg_acc[-5] = 0.6022\n",
      "Epoch 80/100\n"
     ]
    },
    {
     "name": "stderr",
     "output_type": "stream",
     "text": [
      "Processing chunks: 21it [01:12,  3.46s/it]                      \n"
     ]
    },
    {
     "name": "stdout",
     "output_type": "stream",
     "text": [
      "Average Loss: 0.9389\n",
      "Average Accuracy: 0.6048\n",
      "Epoch 81/100\n"
     ]
    },
    {
     "name": "stderr",
     "output_type": "stream",
     "text": [
      "Processing chunks: 21it [01:12,  3.45s/it]                      \n"
     ]
    },
    {
     "name": "stdout",
     "output_type": "stream",
     "text": [
      "Average Loss: 0.9440\n",
      "Average Accuracy: 0.6041\n",
      "Epoch 82/100\n"
     ]
    },
    {
     "name": "stderr",
     "output_type": "stream",
     "text": [
      "Processing chunks: 21it [01:12,  3.46s/it]                      \n"
     ]
    },
    {
     "name": "stdout",
     "output_type": "stream",
     "text": [
      "Average Loss: 0.9403\n",
      "Average Accuracy: 0.6034\n",
      "Ending batch's epoch's early, epoch_avg_acc[-1] = 0.6034 <= epoch_avg_acc[-5] = 0.6026\n",
      "Epoch 83/100\n"
     ]
    },
    {
     "name": "stderr",
     "output_type": "stream",
     "text": [
      "Processing chunks: 21it [01:12,  3.46s/it]                      \n"
     ]
    },
    {
     "name": "stdout",
     "output_type": "stream",
     "text": [
      "Average Loss: 0.9327\n",
      "Average Accuracy: 0.6048\n",
      "Epoch 84/100\n"
     ]
    },
    {
     "name": "stderr",
     "output_type": "stream",
     "text": [
      "Processing chunks: 21it [01:12,  3.45s/it]                      \n"
     ]
    },
    {
     "name": "stdout",
     "output_type": "stream",
     "text": [
      "Average Loss: 0.9314\n",
      "Average Accuracy: 0.6063\n",
      "Epoch 85/100\n"
     ]
    },
    {
     "name": "stderr",
     "output_type": "stream",
     "text": [
      "Processing chunks: 21it [01:12,  3.46s/it]                      \n"
     ]
    },
    {
     "name": "stdout",
     "output_type": "stream",
     "text": [
      "Average Loss: 0.9307\n",
      "Average Accuracy: 0.6053\n",
      "Epoch 86/100\n"
     ]
    },
    {
     "name": "stderr",
     "output_type": "stream",
     "text": [
      "Processing chunks: 21it [01:12,  3.46s/it]                      \n"
     ]
    },
    {
     "name": "stdout",
     "output_type": "stream",
     "text": [
      "Average Loss: 0.9302\n",
      "Average Accuracy: 0.6062\n",
      "Epoch 87/100\n"
     ]
    },
    {
     "name": "stderr",
     "output_type": "stream",
     "text": [
      "Processing chunks: 21it [01:12,  3.46s/it]                      \n"
     ]
    },
    {
     "name": "stdout",
     "output_type": "stream",
     "text": [
      "Average Loss: 0.9302\n",
      "Average Accuracy: 0.6062\n",
      "Epoch 88/100\n"
     ]
    },
    {
     "name": "stderr",
     "output_type": "stream",
     "text": [
      "Processing chunks: 21it [01:12,  3.46s/it]                      \n"
     ]
    },
    {
     "name": "stdout",
     "output_type": "stream",
     "text": [
      "Average Loss: 0.9258\n",
      "Average Accuracy: 0.6061\n",
      "Ending batch's epoch's early, epoch_avg_acc[-1] = 0.6061 <= epoch_avg_acc[-5] = 0.6063\n",
      "Epoch 89/100\n"
     ]
    },
    {
     "name": "stderr",
     "output_type": "stream",
     "text": [
      "Processing chunks: 21it [01:12,  3.45s/it]                      \n"
     ]
    },
    {
     "name": "stdout",
     "output_type": "stream",
     "text": [
      "Average Loss: 0.9244\n",
      "Average Accuracy: 0.6067\n",
      "Epoch 90/100\n"
     ]
    },
    {
     "name": "stderr",
     "output_type": "stream",
     "text": [
      "Processing chunks: 21it [01:12,  3.47s/it]                      \n"
     ]
    },
    {
     "name": "stdout",
     "output_type": "stream",
     "text": [
      "Average Loss: 0.9251\n",
      "Average Accuracy: 0.6072\n",
      "Epoch 91/100\n"
     ]
    },
    {
     "name": "stderr",
     "output_type": "stream",
     "text": [
      "Processing chunks: 21it [01:12,  3.46s/it]                      \n"
     ]
    },
    {
     "name": "stdout",
     "output_type": "stream",
     "text": [
      "Average Loss: 0.9229\n",
      "Average Accuracy: 0.6084\n",
      "Epoch 92/100\n"
     ]
    },
    {
     "name": "stderr",
     "output_type": "stream",
     "text": [
      "Processing chunks: 21it [01:12,  3.45s/it]                      \n"
     ]
    },
    {
     "name": "stdout",
     "output_type": "stream",
     "text": [
      "Average Loss: 0.9232\n",
      "Average Accuracy: 0.6077\n",
      "Epoch 93/100\n"
     ]
    },
    {
     "name": "stderr",
     "output_type": "stream",
     "text": [
      "Processing chunks: 21it [01:12,  3.45s/it]                      \n"
     ]
    },
    {
     "name": "stdout",
     "output_type": "stream",
     "text": [
      "Average Loss: 0.9189\n",
      "Average Accuracy: 0.6093\n",
      "Epoch 94/100\n"
     ]
    },
    {
     "name": "stderr",
     "output_type": "stream",
     "text": [
      "Processing chunks: 21it [01:12,  3.46s/it]                      \n"
     ]
    },
    {
     "name": "stdout",
     "output_type": "stream",
     "text": [
      "Average Loss: 0.9181\n",
      "Average Accuracy: 0.6085\n",
      "Epoch 95/100\n"
     ]
    },
    {
     "name": "stderr",
     "output_type": "stream",
     "text": [
      "Processing chunks: 21it [01:12,  3.45s/it]                      \n"
     ]
    },
    {
     "name": "stdout",
     "output_type": "stream",
     "text": [
      "Average Loss: 0.9202\n",
      "Average Accuracy: 0.6082\n",
      "Ending batch's epoch's early, epoch_avg_acc[-1] = 0.6082 <= epoch_avg_acc[-5] = 0.6084\n",
      "Epoch 96/100\n"
     ]
    },
    {
     "name": "stderr",
     "output_type": "stream",
     "text": [
      "Processing chunks: 21it [01:12,  3.46s/it]                      \n"
     ]
    },
    {
     "name": "stdout",
     "output_type": "stream",
     "text": [
      "Average Loss: 0.9181\n",
      "Average Accuracy: 0.6092\n",
      "Epoch 97/100\n"
     ]
    },
    {
     "name": "stderr",
     "output_type": "stream",
     "text": [
      "Processing chunks: 21it [01:12,  3.45s/it]                      \n"
     ]
    },
    {
     "name": "stdout",
     "output_type": "stream",
     "text": [
      "Average Loss: 0.9118\n",
      "Average Accuracy: 0.6107\n",
      "Epoch 98/100\n"
     ]
    },
    {
     "name": "stderr",
     "output_type": "stream",
     "text": [
      "Processing chunks: 21it [01:12,  3.47s/it]                      \n"
     ]
    },
    {
     "name": "stdout",
     "output_type": "stream",
     "text": [
      "Average Loss: 0.9092\n",
      "Average Accuracy: 0.6098\n",
      "Epoch 99/100\n"
     ]
    },
    {
     "name": "stderr",
     "output_type": "stream",
     "text": [
      "Processing chunks: 21it [01:12,  3.46s/it]                      \n"
     ]
    },
    {
     "name": "stdout",
     "output_type": "stream",
     "text": [
      "Average Loss: 0.9080\n",
      "Average Accuracy: 0.6111\n",
      "Epoch 100/100\n"
     ]
    },
    {
     "name": "stderr",
     "output_type": "stream",
     "text": [
      "Processing chunks: 21it [01:12,  3.47s/it]                      \n"
     ]
    },
    {
     "name": "stdout",
     "output_type": "stream",
     "text": [
      "Average Loss: 0.9110\n",
      "Average Accuracy: 0.6112\n",
      "Processing directory: ./data/2024-03-29-03-38-51\n",
      "Epoch 1/100\n"
     ]
    },
    {
     "name": "stderr",
     "output_type": "stream",
     "text": [
      "Processing chunks: 21it [01:12,  3.45s/it]                      \n"
     ]
    },
    {
     "name": "stdout",
     "output_type": "stream",
     "text": [
      "Average Loss: 1.4299\n",
      "Average Accuracy: 0.5658\n",
      "Epoch 2/100\n"
     ]
    },
    {
     "name": "stderr",
     "output_type": "stream",
     "text": [
      "Processing chunks: 21it [01:12,  3.45s/it]                      \n"
     ]
    },
    {
     "name": "stdout",
     "output_type": "stream",
     "text": [
      "Average Loss: 1.3617\n",
      "Average Accuracy: 0.5695\n",
      "Epoch 3/100\n"
     ]
    },
    {
     "name": "stderr",
     "output_type": "stream",
     "text": [
      "Processing chunks: 21it [01:12,  3.45s/it]                      \n"
     ]
    },
    {
     "name": "stdout",
     "output_type": "stream",
     "text": [
      "Average Loss: 1.3516\n",
      "Average Accuracy: 0.5697\n",
      "Epoch 4/100\n"
     ]
    },
    {
     "name": "stderr",
     "output_type": "stream",
     "text": [
      "Processing chunks: 21it [01:12,  3.45s/it]                      \n"
     ]
    },
    {
     "name": "stdout",
     "output_type": "stream",
     "text": [
      "Average Loss: 1.3446\n",
      "Average Accuracy: 0.5699\n",
      "Epoch 5/100\n"
     ]
    },
    {
     "name": "stderr",
     "output_type": "stream",
     "text": [
      "Processing chunks: 21it [01:12,  3.45s/it]                      \n"
     ]
    },
    {
     "name": "stdout",
     "output_type": "stream",
     "text": [
      "Average Loss: 1.3401\n",
      "Average Accuracy: 0.5699\n",
      "Epoch 6/100\n"
     ]
    },
    {
     "name": "stderr",
     "output_type": "stream",
     "text": [
      "Processing chunks: 21it [01:12,  3.46s/it]                      \n"
     ]
    },
    {
     "name": "stdout",
     "output_type": "stream",
     "text": [
      "Average Loss: 1.3354\n",
      "Average Accuracy: 0.5699\n",
      "Ending batch's epoch's early, epoch_avg_acc[-1] = 0.5699 <= epoch_avg_acc[-5] = 0.5695\n",
      "Epoch 7/100\n"
     ]
    },
    {
     "name": "stderr",
     "output_type": "stream",
     "text": [
      "Processing chunks: 21it [01:12,  3.46s/it]                      \n"
     ]
    },
    {
     "name": "stdout",
     "output_type": "stream",
     "text": [
      "Average Loss: 1.3299\n",
      "Average Accuracy: 0.5699\n",
      "Ending batch's epoch's early, epoch_avg_acc[-1] = 0.5699 <= epoch_avg_acc[-5] = 0.5697\n",
      "Epoch 8/100\n"
     ]
    },
    {
     "name": "stderr",
     "output_type": "stream",
     "text": [
      "Processing chunks: 21it [01:12,  3.45s/it]                      \n"
     ]
    },
    {
     "name": "stdout",
     "output_type": "stream",
     "text": [
      "Average Loss: 1.3261\n",
      "Average Accuracy: 0.5701\n",
      "Ending batch's epoch's early, epoch_avg_acc[-1] = 0.5701 <= epoch_avg_acc[-5] = 0.5699\n",
      "Epoch 9/100\n"
     ]
    },
    {
     "name": "stderr",
     "output_type": "stream",
     "text": [
      "Processing chunks: 21it [01:12,  3.46s/it]                      \n"
     ]
    },
    {
     "name": "stdout",
     "output_type": "stream",
     "text": [
      "Average Loss: 1.3185\n",
      "Average Accuracy: 0.5703\n",
      "Ending batch's epoch's early, epoch_avg_acc[-1] = 0.5703 <= epoch_avg_acc[-5] = 0.5699\n",
      "Epoch 10/100\n"
     ]
    },
    {
     "name": "stderr",
     "output_type": "stream",
     "text": [
      "Processing chunks: 21it [01:12,  3.46s/it]                      \n"
     ]
    },
    {
     "name": "stdout",
     "output_type": "stream",
     "text": [
      "Average Loss: 1.3142\n",
      "Average Accuracy: 0.5706\n",
      "Ending batch's epoch's early, epoch_avg_acc[-1] = 0.5706 <= epoch_avg_acc[-5] = 0.5699\n",
      "Epoch 11/100\n"
     ]
    },
    {
     "name": "stderr",
     "output_type": "stream",
     "text": [
      "Processing chunks: 21it [01:12,  3.45s/it]                      \n"
     ]
    },
    {
     "name": "stdout",
     "output_type": "stream",
     "text": [
      "Average Loss: 1.3110\n",
      "Average Accuracy: 0.5708\n",
      "Ending batch's epoch's early, epoch_avg_acc[-1] = 0.5708 <= epoch_avg_acc[-5] = 0.5699\n",
      "Epoch 12/100\n"
     ]
    },
    {
     "name": "stderr",
     "output_type": "stream",
     "text": [
      "Processing chunks: 21it [01:12,  3.46s/it]                      \n"
     ]
    },
    {
     "name": "stdout",
     "output_type": "stream",
     "text": [
      "Average Loss: 1.3321\n",
      "Average Accuracy: 0.5579\n",
      "Ending batch's epoch's early, epoch_avg_acc[-1] = 0.5579 <= epoch_avg_acc[-5] = 0.5701\n",
      "Epoch 13/100\n"
     ]
    },
    {
     "name": "stderr",
     "output_type": "stream",
     "text": [
      "Processing chunks: 21it [01:12,  3.45s/it]                      \n"
     ]
    },
    {
     "name": "stdout",
     "output_type": "stream",
     "text": [
      "Average Loss: 1.3530\n",
      "Average Accuracy: 0.5421\n",
      "Ending batch's epoch's early, epoch_avg_acc[-1] = 0.5421 <= epoch_avg_acc[-5] = 0.5703\n",
      "Epoch 14/100\n"
     ]
    },
    {
     "name": "stderr",
     "output_type": "stream",
     "text": [
      "Processing chunks: 21it [01:12,  3.44s/it]                      \n"
     ]
    },
    {
     "name": "stdout",
     "output_type": "stream",
     "text": [
      "Average Loss: 1.3588\n",
      "Average Accuracy: 0.5370\n",
      "Ending batch's epoch's early, epoch_avg_acc[-1] = 0.5370 <= epoch_avg_acc[-5] = 0.5706\n",
      "Epoch 15/100\n"
     ]
    },
    {
     "name": "stderr",
     "output_type": "stream",
     "text": [
      "Processing chunks: 21it [01:12,  3.45s/it]                      \n"
     ]
    },
    {
     "name": "stdout",
     "output_type": "stream",
     "text": [
      "Average Loss: 1.3443\n",
      "Average Accuracy: 0.5416\n",
      "Ending batch's epoch's early, epoch_avg_acc[-1] = 0.5416 <= epoch_avg_acc[-5] = 0.5708\n",
      "Epoch 16/100\n"
     ]
    },
    {
     "name": "stderr",
     "output_type": "stream",
     "text": [
      "Processing chunks: 21it [01:12,  3.45s/it]                      \n"
     ]
    },
    {
     "name": "stdout",
     "output_type": "stream",
     "text": [
      "Average Loss: 1.3532\n",
      "Average Accuracy: 0.5351\n",
      "Ending batch's epoch's early, epoch_avg_acc[-1] = 0.5351 <= epoch_avg_acc[-5] = 0.5579\n",
      "Epoch 17/100\n"
     ]
    },
    {
     "name": "stderr",
     "output_type": "stream",
     "text": [
      "Processing chunks: 21it [01:12,  3.46s/it]                      \n"
     ]
    },
    {
     "name": "stdout",
     "output_type": "stream",
     "text": [
      "Average Loss: 1.3599\n",
      "Average Accuracy: 0.5292\n",
      "Ending batch's epoch's early, epoch_avg_acc[-1] = 0.5292 <= epoch_avg_acc[-5] = 0.5421\n",
      "Epoch 18/100\n"
     ]
    },
    {
     "name": "stderr",
     "output_type": "stream",
     "text": [
      "Processing chunks: 21it [01:12,  3.45s/it]                      \n"
     ]
    },
    {
     "name": "stdout",
     "output_type": "stream",
     "text": [
      "Average Loss: 1.3547\n",
      "Average Accuracy: 0.5304\n",
      "Ending batch's epoch's early, epoch_avg_acc[-1] = 0.5304 <= epoch_avg_acc[-5] = 0.5370\n",
      "Epoch 19/100\n"
     ]
    },
    {
     "name": "stderr",
     "output_type": "stream",
     "text": [
      "Processing chunks: 21it [01:12,  3.45s/it]                      \n"
     ]
    },
    {
     "name": "stdout",
     "output_type": "stream",
     "text": [
      "Average Loss: 1.3504\n",
      "Average Accuracy: 0.5289\n",
      "Ending batch's epoch's early, epoch_avg_acc[-1] = 0.5289 <= epoch_avg_acc[-5] = 0.5416\n",
      "Epoch 20/100\n"
     ]
    },
    {
     "name": "stderr",
     "output_type": "stream",
     "text": [
      "Processing chunks: 21it [01:12,  3.46s/it]                      \n"
     ]
    },
    {
     "name": "stdout",
     "output_type": "stream",
     "text": [
      "Average Loss: 1.3335\n",
      "Average Accuracy: 0.5364\n",
      "Epoch 21/100\n"
     ]
    },
    {
     "name": "stderr",
     "output_type": "stream",
     "text": [
      "Processing chunks: 21it [01:12,  3.47s/it]                      \n"
     ]
    },
    {
     "name": "stdout",
     "output_type": "stream",
     "text": [
      "Average Loss: 1.3176\n",
      "Average Accuracy: 0.5434\n",
      "Epoch 22/100\n"
     ]
    },
    {
     "name": "stderr",
     "output_type": "stream",
     "text": [
      "Processing chunks: 21it [01:12,  3.46s/it]                      \n"
     ]
    },
    {
     "name": "stdout",
     "output_type": "stream",
     "text": [
      "Average Loss: 1.3016\n",
      "Average Accuracy: 0.5505\n",
      "Epoch 23/100\n"
     ]
    },
    {
     "name": "stderr",
     "output_type": "stream",
     "text": [
      "Processing chunks: 21it [01:12,  3.45s/it]                      \n"
     ]
    },
    {
     "name": "stdout",
     "output_type": "stream",
     "text": [
      "Average Loss: 1.2899\n",
      "Average Accuracy: 0.5571\n",
      "Epoch 24/100\n"
     ]
    },
    {
     "name": "stderr",
     "output_type": "stream",
     "text": [
      "Processing chunks: 21it [01:12,  3.46s/it]                      \n"
     ]
    },
    {
     "name": "stdout",
     "output_type": "stream",
     "text": [
      "Average Loss: 1.2812\n",
      "Average Accuracy: 0.5610\n",
      "Epoch 25/100\n"
     ]
    },
    {
     "name": "stderr",
     "output_type": "stream",
     "text": [
      "Processing chunks: 21it [01:12,  3.45s/it]                      \n"
     ]
    },
    {
     "name": "stdout",
     "output_type": "stream",
     "text": [
      "Average Loss: 1.2739\n",
      "Average Accuracy: 0.5643\n",
      "Epoch 26/100\n"
     ]
    },
    {
     "name": "stderr",
     "output_type": "stream",
     "text": [
      "Processing chunks: 21it [01:12,  3.47s/it]                      \n"
     ]
    },
    {
     "name": "stdout",
     "output_type": "stream",
     "text": [
      "Average Loss: 1.2678\n",
      "Average Accuracy: 0.5660\n",
      "Epoch 27/100\n"
     ]
    },
    {
     "name": "stderr",
     "output_type": "stream",
     "text": [
      "Processing chunks: 21it [01:12,  3.46s/it]                      \n"
     ]
    },
    {
     "name": "stdout",
     "output_type": "stream",
     "text": [
      "Average Loss: 1.2655\n",
      "Average Accuracy: 0.5657\n",
      "Epoch 28/100\n"
     ]
    },
    {
     "name": "stderr",
     "output_type": "stream",
     "text": [
      "Processing chunks: 21it [01:12,  3.45s/it]                      \n"
     ]
    },
    {
     "name": "stdout",
     "output_type": "stream",
     "text": [
      "Average Loss: 1.2614\n",
      "Average Accuracy: 0.5672\n",
      "Epoch 29/100\n"
     ]
    },
    {
     "name": "stderr",
     "output_type": "stream",
     "text": [
      "Processing chunks: 21it [01:12,  3.46s/it]                      \n"
     ]
    },
    {
     "name": "stdout",
     "output_type": "stream",
     "text": [
      "Average Loss: 1.2534\n",
      "Average Accuracy: 0.5675\n",
      "Epoch 30/100\n"
     ]
    },
    {
     "name": "stderr",
     "output_type": "stream",
     "text": [
      "Processing chunks: 21it [01:12,  3.46s/it]                      \n"
     ]
    },
    {
     "name": "stdout",
     "output_type": "stream",
     "text": [
      "Average Loss: 1.2488\n",
      "Average Accuracy: 0.5690\n",
      "Epoch 31/100\n"
     ]
    },
    {
     "name": "stderr",
     "output_type": "stream",
     "text": [
      "Processing chunks: 21it [01:12,  3.46s/it]                      \n"
     ]
    },
    {
     "name": "stdout",
     "output_type": "stream",
     "text": [
      "Average Loss: 1.2469\n",
      "Average Accuracy: 0.5683\n",
      "Epoch 32/100\n"
     ]
    },
    {
     "name": "stderr",
     "output_type": "stream",
     "text": [
      "Processing chunks: 21it [01:12,  3.45s/it]                      \n"
     ]
    },
    {
     "name": "stdout",
     "output_type": "stream",
     "text": [
      "Average Loss: 1.2438\n",
      "Average Accuracy: 0.5687\n",
      "Epoch 33/100\n"
     ]
    },
    {
     "name": "stderr",
     "output_type": "stream",
     "text": [
      "Processing chunks: 21it [01:12,  3.46s/it]                      \n"
     ]
    },
    {
     "name": "stdout",
     "output_type": "stream",
     "text": [
      "Average Loss: 1.2422\n",
      "Average Accuracy: 0.5690\n",
      "Epoch 34/100\n"
     ]
    },
    {
     "name": "stderr",
     "output_type": "stream",
     "text": [
      "Processing chunks: 21it [01:12,  3.47s/it]                      \n"
     ]
    },
    {
     "name": "stdout",
     "output_type": "stream",
     "text": [
      "Average Loss: 1.2276\n",
      "Average Accuracy: 0.5715\n",
      "Epoch 37/100\n"
     ]
    },
    {
     "name": "stderr",
     "output_type": "stream",
     "text": [
      "Processing chunks: 21it [01:12,  3.45s/it]                      \n"
     ]
    },
    {
     "name": "stdout",
     "output_type": "stream",
     "text": [
      "Average Loss: 1.2242\n",
      "Average Accuracy: 0.5704\n",
      "Epoch 38/100\n"
     ]
    },
    {
     "name": "stderr",
     "output_type": "stream",
     "text": [
      "Processing chunks: 21it [01:12,  3.46s/it]                      \n"
     ]
    },
    {
     "name": "stdout",
     "output_type": "stream",
     "text": [
      "Average Loss: 1.2222\n",
      "Average Accuracy: 0.5708\n",
      "Epoch 39/100\n"
     ]
    },
    {
     "name": "stderr",
     "output_type": "stream",
     "text": [
      "Processing chunks: 21it [01:12,  3.45s/it]                      \n"
     ]
    },
    {
     "name": "stdout",
     "output_type": "stream",
     "text": [
      "Average Loss: 1.2226\n",
      "Average Accuracy: 0.5700\n",
      "Ending batch's epoch's early, epoch_avg_acc[-1] = 0.5700 <= epoch_avg_acc[-5] = 0.5699\n",
      "Epoch 40/100\n"
     ]
    },
    {
     "name": "stderr",
     "output_type": "stream",
     "text": [
      "Processing chunks: 21it [01:12,  3.45s/it]                      \n"
     ]
    },
    {
     "name": "stdout",
     "output_type": "stream",
     "text": [
      "Average Loss: 1.2149\n",
      "Average Accuracy: 0.5709\n",
      "Ending batch's epoch's early, epoch_avg_acc[-1] = 0.5709 <= epoch_avg_acc[-5] = 0.5715\n",
      "Epoch 41/100\n"
     ]
    },
    {
     "name": "stderr",
     "output_type": "stream",
     "text": [
      "Processing chunks: 21it [01:12,  3.46s/it]                      \n"
     ]
    },
    {
     "name": "stdout",
     "output_type": "stream",
     "text": [
      "Average Loss: 1.2123\n",
      "Average Accuracy: 0.5710\n",
      "Ending batch's epoch's early, epoch_avg_acc[-1] = 0.5710 <= epoch_avg_acc[-5] = 0.5704\n",
      "Epoch 42/100\n"
     ]
    },
    {
     "name": "stderr",
     "output_type": "stream",
     "text": [
      "Processing chunks: 21it [01:12,  3.47s/it]                      \n"
     ]
    },
    {
     "name": "stdout",
     "output_type": "stream",
     "text": [
      "Average Loss: 1.2134\n",
      "Average Accuracy: 0.5706\n",
      "Ending batch's epoch's early, epoch_avg_acc[-1] = 0.5706 <= epoch_avg_acc[-5] = 0.5708\n",
      "Epoch 43/100\n"
     ]
    },
    {
     "name": "stderr",
     "output_type": "stream",
     "text": [
      "Processing chunks: 21it [01:12,  3.46s/it]                      \n"
     ]
    },
    {
     "name": "stdout",
     "output_type": "stream",
     "text": [
      "Average Loss: 1.2077\n",
      "Average Accuracy: 0.5715\n",
      "Epoch 44/100\n"
     ]
    },
    {
     "name": "stderr",
     "output_type": "stream",
     "text": [
      "Processing chunks: 21it [01:12,  3.46s/it]                      \n"
     ]
    },
    {
     "name": "stdout",
     "output_type": "stream",
     "text": [
      "Average Loss: 1.2029\n",
      "Average Accuracy: 0.5730\n",
      "Epoch 45/100\n"
     ]
    },
    {
     "name": "stderr",
     "output_type": "stream",
     "text": [
      "Processing chunks: 21it [01:12,  3.45s/it]                      \n"
     ]
    },
    {
     "name": "stdout",
     "output_type": "stream",
     "text": [
      "Average Loss: 1.2017\n",
      "Average Accuracy: 0.5724\n",
      "Epoch 46/100\n"
     ]
    },
    {
     "name": "stderr",
     "output_type": "stream",
     "text": [
      "Processing chunks: 21it [01:12,  3.46s/it]                      \n"
     ]
    },
    {
     "name": "stdout",
     "output_type": "stream",
     "text": [
      "Average Loss: 1.1968\n",
      "Average Accuracy: 0.5732\n",
      "Epoch 47/100\n"
     ]
    },
    {
     "name": "stderr",
     "output_type": "stream",
     "text": [
      "Processing chunks: 21it [01:12,  3.46s/it]                      \n"
     ]
    },
    {
     "name": "stdout",
     "output_type": "stream",
     "text": [
      "Average Loss: 1.1952\n",
      "Average Accuracy: 0.5724\n",
      "Ending batch's epoch's early, epoch_avg_acc[-1] = 0.5724 <= epoch_avg_acc[-5] = 0.5715\n",
      "Epoch 48/100\n"
     ]
    },
    {
     "name": "stderr",
     "output_type": "stream",
     "text": [
      "Processing chunks: 21it [01:12,  3.45s/it]                      \n"
     ]
    },
    {
     "name": "stdout",
     "output_type": "stream",
     "text": [
      "Average Loss: 1.1920\n",
      "Average Accuracy: 0.5734\n",
      "Ending batch's epoch's early, epoch_avg_acc[-1] = 0.5734 <= epoch_avg_acc[-5] = 0.5730\n",
      "Epoch 49/100\n"
     ]
    },
    {
     "name": "stderr",
     "output_type": "stream",
     "text": [
      "Processing chunks: 21it [01:12,  3.46s/it]                      \n"
     ]
    },
    {
     "name": "stdout",
     "output_type": "stream",
     "text": [
      "Average Loss: 1.1893\n",
      "Average Accuracy: 0.5730\n",
      "Ending batch's epoch's early, epoch_avg_acc[-1] = 0.5730 <= epoch_avg_acc[-5] = 0.5724\n",
      "Epoch 50/100\n"
     ]
    },
    {
     "name": "stderr",
     "output_type": "stream",
     "text": [
      "Processing chunks: 21it [01:12,  3.45s/it]                      \n"
     ]
    },
    {
     "name": "stdout",
     "output_type": "stream",
     "text": [
      "Average Loss: 1.1878\n",
      "Average Accuracy: 0.5727\n",
      "Ending batch's epoch's early, epoch_avg_acc[-1] = 0.5727 <= epoch_avg_acc[-5] = 0.5732\n",
      "Epoch 51/100\n"
     ]
    },
    {
     "name": "stderr",
     "output_type": "stream",
     "text": [
      "Processing chunks: 21it [01:12,  3.45s/it]                      \n"
     ]
    },
    {
     "name": "stdout",
     "output_type": "stream",
     "text": [
      "Average Loss: 1.1860\n",
      "Average Accuracy: 0.5749\n",
      "Epoch 52/100\n"
     ]
    },
    {
     "name": "stderr",
     "output_type": "stream",
     "text": [
      "Processing chunks: 21it [01:12,  3.46s/it]                      \n"
     ]
    },
    {
     "name": "stdout",
     "output_type": "stream",
     "text": [
      "Average Loss: 1.1874\n",
      "Average Accuracy: 0.5740\n",
      "Ending batch's epoch's early, epoch_avg_acc[-1] = 0.5740 <= epoch_avg_acc[-5] = 0.5734\n",
      "Epoch 53/100\n"
     ]
    },
    {
     "name": "stderr",
     "output_type": "stream",
     "text": [
      "Processing chunks: 21it [01:12,  3.46s/it]                      \n"
     ]
    },
    {
     "name": "stdout",
     "output_type": "stream",
     "text": [
      "Average Loss: 1.1796\n",
      "Average Accuracy: 0.5751\n",
      "Epoch 54/100\n"
     ]
    },
    {
     "name": "stderr",
     "output_type": "stream",
     "text": [
      "Processing chunks: 21it [01:12,  3.46s/it]                      \n"
     ]
    },
    {
     "name": "stdout",
     "output_type": "stream",
     "text": [
      "Average Loss: 1.1780\n",
      "Average Accuracy: 0.5762\n",
      "Epoch 55/100\n"
     ]
    },
    {
     "name": "stderr",
     "output_type": "stream",
     "text": [
      "Processing chunks: 21it [01:12,  3.46s/it]                      \n"
     ]
    },
    {
     "name": "stdout",
     "output_type": "stream",
     "text": [
      "Average Loss: 1.1769\n",
      "Average Accuracy: 0.5750\n",
      "Ending batch's epoch's early, epoch_avg_acc[-1] = 0.5750 <= epoch_avg_acc[-5] = 0.5749\n",
      "Epoch 56/100\n"
     ]
    },
    {
     "name": "stderr",
     "output_type": "stream",
     "text": [
      "Processing chunks: 21it [01:12,  3.46s/it]                      \n"
     ]
    },
    {
     "name": "stdout",
     "output_type": "stream",
     "text": [
      "Average Loss: 1.1736\n",
      "Average Accuracy: 0.5751\n",
      "Epoch 57/100\n"
     ]
    },
    {
     "name": "stderr",
     "output_type": "stream",
     "text": [
      "Processing chunks: 21it [01:12,  3.45s/it]                      \n"
     ]
    },
    {
     "name": "stdout",
     "output_type": "stream",
     "text": [
      "Average Loss: 1.1713\n",
      "Average Accuracy: 0.5761\n",
      "Ending batch's epoch's early, epoch_avg_acc[-1] = 0.5761 <= epoch_avg_acc[-5] = 0.5751\n",
      "Epoch 58/100\n"
     ]
    },
    {
     "name": "stderr",
     "output_type": "stream",
     "text": [
      "Processing chunks: 21it [01:12,  3.45s/it]                      \n"
     ]
    },
    {
     "name": "stdout",
     "output_type": "stream",
     "text": [
      "Average Loss: 1.1702\n",
      "Average Accuracy: 0.5760\n",
      "Ending batch's epoch's early, epoch_avg_acc[-1] = 0.5760 <= epoch_avg_acc[-5] = 0.5762\n",
      "Epoch 59/100\n"
     ]
    },
    {
     "name": "stderr",
     "output_type": "stream",
     "text": [
      "Processing chunks: 21it [01:12,  3.45s/it]                      \n"
     ]
    },
    {
     "name": "stdout",
     "output_type": "stream",
     "text": [
      "Average Loss: 1.1659\n",
      "Average Accuracy: 0.5762\n",
      "Epoch 60/100\n"
     ]
    },
    {
     "name": "stderr",
     "output_type": "stream",
     "text": [
      "Processing chunks: 21it [01:12,  3.45s/it]                      \n"
     ]
    },
    {
     "name": "stdout",
     "output_type": "stream",
     "text": [
      "Average Loss: 1.1629\n",
      "Average Accuracy: 0.5763\n",
      "Epoch 61/100\n"
     ]
    },
    {
     "name": "stderr",
     "output_type": "stream",
     "text": [
      "Processing chunks: 21it [01:12,  3.45s/it]                      \n"
     ]
    },
    {
     "name": "stdout",
     "output_type": "stream",
     "text": [
      "Average Loss: 1.1612\n",
      "Average Accuracy: 0.5764\n",
      "Ending batch's epoch's early, epoch_avg_acc[-1] = 0.5764 <= epoch_avg_acc[-5] = 0.5761\n",
      "Epoch 62/100\n"
     ]
    },
    {
     "name": "stderr",
     "output_type": "stream",
     "text": [
      "Processing chunks: 21it [01:12,  3.45s/it]                      \n"
     ]
    },
    {
     "name": "stdout",
     "output_type": "stream",
     "text": [
      "Average Loss: 1.1599\n",
      "Average Accuracy: 0.5771\n",
      "Epoch 63/100\n"
     ]
    },
    {
     "name": "stderr",
     "output_type": "stream",
     "text": [
      "Processing chunks: 21it [01:12,  3.46s/it]                      \n"
     ]
    },
    {
     "name": "stdout",
     "output_type": "stream",
     "text": [
      "Average Loss: 1.1601\n",
      "Average Accuracy: 0.5764\n",
      "Ending batch's epoch's early, epoch_avg_acc[-1] = 0.5764 <= epoch_avg_acc[-5] = 0.5762\n",
      "Epoch 64/100\n"
     ]
    },
    {
     "name": "stderr",
     "output_type": "stream",
     "text": [
      "Processing chunks: 21it [01:12,  3.44s/it]                      \n"
     ]
    },
    {
     "name": "stdout",
     "output_type": "stream",
     "text": [
      "Average Loss: 1.1571\n",
      "Average Accuracy: 0.5777\n",
      "Epoch 65/100\n"
     ]
    },
    {
     "name": "stderr",
     "output_type": "stream",
     "text": [
      "Processing chunks: 21it [01:12,  3.45s/it]                      \n"
     ]
    },
    {
     "name": "stdout",
     "output_type": "stream",
     "text": [
      "Average Loss: 1.1523\n",
      "Average Accuracy: 0.5791\n",
      "Epoch 66/100\n"
     ]
    },
    {
     "name": "stderr",
     "output_type": "stream",
     "text": [
      "Processing chunks: 21it [01:12,  3.45s/it]                      \n"
     ]
    },
    {
     "name": "stdout",
     "output_type": "stream",
     "text": [
      "Average Loss: 1.1501\n",
      "Average Accuracy: 0.5791\n",
      "Epoch 67/100\n"
     ]
    },
    {
     "name": "stderr",
     "output_type": "stream",
     "text": [
      "Processing chunks: 21it [01:12,  3.45s/it]                      \n"
     ]
    },
    {
     "name": "stdout",
     "output_type": "stream",
     "text": [
      "Average Loss: 1.1469\n",
      "Average Accuracy: 0.5793\n",
      "Epoch 68/100\n"
     ]
    },
    {
     "name": "stderr",
     "output_type": "stream",
     "text": [
      "Processing chunks: 19it [01:07,  3.51s/it]                      "
     ]
    }
   ],
   "source": [
    "import pickle\n",
    "# Overall run\n",
    "model = DuelingQNetworkConv(action_size=12)\n",
    "optimizer = torch.optim.Adam(model.parameters(), lr=0.001)\n",
    "loss_fn = torch.nn.CrossEntropyLoss() # Cross entropy loss for classification 0-11\n",
    "\n",
    "device = torch.device(\"cuda\" if torch.cuda.is_available() else \"cpu\")\n",
    "print(f\"Using device: {device}\")\n",
    "model.to(device)  # Move the model to the specified device before training starts\n",
    "\n",
    "\n",
    "base_dir = './data'\n",
    "process_directory(base_dir)\n",
    "\n",
    "model.to('cpu')  # Move the model to CPU\n",
    "\n",
    "# Save the model to a file\n",
    "model_path = 'saved_model.pkl'\n",
    "with open(model_path, 'wb') as f:\n",
    "    pickle.dump(model, f)"
   ]
  }
 ],
 "metadata": {
  "colab": {
   "provenance": []
  },
  "kernelspec": {
   "display_name": "Python 3 (ipykernel)",
   "language": "python",
   "name": "python3"
  },
  "language_info": {
   "codemirror_mode": {
    "name": "ipython",
    "version": 3
   },
   "file_extension": ".py",
   "mimetype": "text/x-python",
   "name": "python",
   "nbconvert_exporter": "python",
   "pygments_lexer": "ipython3",
   "version": "3.11.4"
  }
 },
 "nbformat": 4,
 "nbformat_minor": 5
}
